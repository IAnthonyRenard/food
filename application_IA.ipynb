{
 "cells": [
  {
   "cell_type": "markdown",
   "id": "2a821cbb-4373-48e4-95e4-51ab71d5ac4d",
   "metadata": {
    "extensions": {
     "jupyter_dashboards": {
      "activeView": "grid_default",
      "views": {
       "grid_default": {
        "col": null,
        "height": 2,
        "hidden": true,
        "locked": true,
        "row": null,
        "width": 2
       }
      }
     }
    }
   },
   "source": [
    "#APPLICATION"
   ]
  },
  {
   "cell_type": "markdown",
   "id": "292e952c-b3f5-4623-bd9d-2656b37ffbb3",
   "metadata": {
    "extensions": {
     "jupyter_dashboards": {
      "activeView": "grid_default",
      "views": {
       "grid_default": {
        "col": null,
        "height": 2,
        "hidden": true,
        "locked": true,
        "row": null,
        "width": 2
       }
      }
     }
    }
   },
   "source": [
    "Quantité pour un produit de 100g/100ml :"
   ]
  },
  {
   "cell_type": "code",
   "execution_count": 1,
   "id": "d17c54b7-c857-4f9f-a023-34f57ad7ffc6",
   "metadata": {
    "extensions": {
     "jupyter_dashboards": {
      "activeView": "grid_default",
      "views": {
       "grid_default": {
        "col": null,
        "height": 2,
        "hidden": true,
        "locked": true,
        "row": null,
        "width": 2
       }
      }
     }
    },
    "tags": []
   },
   "outputs": [],
   "source": [
    "import ipywidgets as widgets\n",
    "import pandas as pd\n",
    "import numpy as np\n",
    "\n",
    "from sklearn.linear_model import LinearRegression\n",
    "from IPython.display import Image\n",
    "from PIL import Image\n",
    "from skimage import io"
   ]
  },
  {
   "cell_type": "code",
   "execution_count": 2,
   "id": "e7478a73-4228-4a24-81ba-3d6481dd1359",
   "metadata": {
    "extensions": {
     "jupyter_dashboards": {
      "activeView": "grid_default",
      "views": {
       "grid_default": {
        "col": null,
        "height": 2,
        "hidden": true,
        "locked": true,
        "row": null,
        "width": 2
       }
      }
     }
    }
   },
   "outputs": [],
   "source": [
    "#Récupération des fichier d'entrainement crée dans projet3.ipynb\n",
    "xtrain=pd.read_excel('xtrain.xlsx',index_col=0)\n",
    "ytrain=pd.read_excel('ytrain.xlsx',index_col=0)"
   ]
  },
  {
   "cell_type": "code",
   "execution_count": 3,
   "id": "40e6465c-cfaf-4e21-a16a-14b908eabe57",
   "metadata": {
    "extensions": {
     "jupyter_dashboards": {
      "activeView": "grid_default",
      "views": {
       "grid_default": {
        "col": null,
        "height": 2,
        "hidden": true,
        "locked": true,
        "row": null,
        "width": 2
       }
      }
     }
    }
   },
   "outputs": [],
   "source": [
    "#Création du modèle et entrainement\n",
    "lr = LinearRegression()\n",
    "lr_model = lr.fit(xtrain, ytrain)"
   ]
  },
  {
   "cell_type": "code",
   "execution_count": 4,
   "id": "d56c0afc-fd7d-49e9-b88a-c14500d8ca1b",
   "metadata": {
    "extensions": {
     "jupyter_dashboards": {
      "activeView": "grid_default",
      "views": {
       "grid_default": {
        "col": null,
        "height": 2,
        "hidden": true,
        "locked": true,
        "row": null,
        "width": 2
       }
      }
     }
    }
   },
   "outputs": [
    {
     "data": {
      "application/vnd.jupyter.widget-view+json": {
       "model_id": "5376846a02574239b3a7e19f4acfb5d2",
       "version_major": 2,
       "version_minor": 0
      },
      "text/plain": [
       "VBox(children=(FloatSlider(value=0.0, description='Graisse'), FloatSlider(value=0.0, description='Graisses sat…"
      ]
     },
     "execution_count": 4,
     "metadata": {},
     "output_type": "execute_result"
    }
   ],
   "source": [
    "#Création des sliders\n",
    "slider1 = widgets.FloatSlider(description='Graisse')\n",
    "slider2 = widgets.FloatSlider(description='Graisses sat')\n",
    "slider3 = widgets.FloatSlider(description='Glucides')\n",
    "slider4 = widgets.FloatSlider(description='Sucres')\n",
    "slider5 = widgets.FloatSlider(description='Fibres')\n",
    "slider6 = widgets.FloatSlider(description='Proteines')\n",
    "slider7 = widgets.FloatSlider(description='Sel')\n",
    "\n",
    "#Slides optionnels\n",
    "\n",
    "slider8 = widgets.FloatSlider(description='vitamin_a')\n",
    "slider9 = widgets.FloatSlider(description='vitamin_c')\n",
    "slider10 = widgets.FloatSlider(description='vitamin_b1')\n",
    "slider11 = widgets.FloatSlider(description='vitamin_b6')\n",
    "slider12 = widgets.FloatSlider(description='vitamin_b9')\n",
    "slider13 = widgets.FloatSlider(description='vitamin_b12')\n",
    "slider14 = widgets.FloatSlider(description='vitamin_d')\n",
    "slider15 = widgets.FloatSlider(description='vitamin_pp')\n",
    "\n",
    "\n",
    "\n",
    "\n",
    "#Création du textBox\n",
    "text0 = widgets.FloatText(disabled=True, description='$Nutriscore$')\n",
    "text1 = widgets.Text(disabled=True, description='$Nutrigrade$')\n",
    "\n",
    "\n",
    "#Chargement des images score\n",
    "file = open('IMAGE/ALL5.png', \"rb\")\n",
    "image = file.read()\n",
    "IMAGE_all5=widgets.Image(value=image, format='png', layout=widgets.Layout(width='300px'))\n",
    "\n",
    "file = open('IMAGE/Exe5.png', \"rb\")\n",
    "image = file.read()\n",
    "IMAGE_Exe5=widgets.Image(value=image, format='png', layout=widgets.Layout(width='300px'))\n",
    "\n",
    "file = open('IMAGE/Bon5.png', \"rb\")\n",
    "image = file.read()\n",
    "IMAGE_Bon5=widgets.Image(value=image, format='png', layout=widgets.Layout(width='300px'))\n",
    "\n",
    "file = open('IMAGE/Pas5.png', \"rb\")\n",
    "image = file.read()\n",
    "IMAGE_Pas5=widgets.Image(value=image, format='png', layout=widgets.Layout(width='300px'))\n",
    "\n",
    "file = open('IMAGE/Med5.png', \"rb\")\n",
    "image = file.read()\n",
    "IMAGE_Med5=widgets.Image(value=image, format='png', layout=widgets.Layout(width='300px'))\n",
    "\n",
    "file = open('IMAGE/Mau5.png', \"rb\")\n",
    "image = file.read()\n",
    "IMAGE_Mau5=widgets.Image(value=image, format='png', layout=widgets.Layout(width='300px'))\n",
    "\n",
    "\n",
    "\n",
    "\n",
    "def compute(*ignore):\n",
    "\n",
    "    fat_100g=slider1.value\n",
    "    saturated_fat_100g=slider2.value\n",
    "    carbohydrates_100g=slider3.value\n",
    "    sugars_100g=slider4.value\n",
    "    fiber_100g=slider5.value\n",
    "    proteins_100g=slider6.value\n",
    "    salt_100g=slider7.value\n",
    "    \n",
    "    vitamin_a_100g=slider8.value\n",
    "    vitamin_c_100g=slider9.value\n",
    "    vitamin_b1_100g=slider10.value\n",
    "    vitamin_b6_100g=slider11.value\n",
    "    vitamin_b9_100g=slider12.value\n",
    "    vitamin_b12_100g=slider13.value\n",
    "    vitamin_d_100g=slider14.value\n",
    "    vitamin_pp_100g=slider15.value\n",
    "    \n",
    "    \n",
    "   \n",
    "    \n",
    "    df = pd.DataFrame([(slider1.value,slider2.value,slider3.value,slider4.value,slider5.value,slider6.value,slider7.value,slider8.value,slider9.value,slider10.value,slider11.value,slider12.value,slider13.value,slider14.value,slider15.value)],columns = ['fat_100g', 'saturated_fat_100g', 'carbohydrates_100g','sugars_100g','fiber_100g','proteins_100g','salt_100g','vitamin_a_100g','vitamin_c_100g','vitamin_b1_100g','vitamin_b6_100g','vitamin_b9_100g','vitamin_b12_100g','vitamin_d_100g','vitamin_pp_100g'])\n",
    "    \n",
    "    #prédiction de la valeur du nutriscore en fonction des valeurs des slides\n",
    "    nutriscore_prediction= lr_model.predict(df)\n",
    "    \n",
    "    \n",
    "    #Affectation du score en fonction de la valeur prédicte\n",
    "    if nutriscore_prediction<-4 :\n",
    "        text0.value = np.round(nutriscore_prediction,0)\n",
    "        text1.value = str(\"A\")\n",
    "        IMAGE_all5.value=IMAGE_Exe5.value  \n",
    "    else :\n",
    "            if nutriscore_prediction>=-4 and nutriscore_prediction<7 :\n",
    "                text0.value = np.round(nutriscore_prediction,0)\n",
    "                text1.value = str(\"B\")\n",
    "                IMAGE_all5.value=IMAGE_Bon5.value\n",
    "            else :\n",
    "                if nutriscore_prediction>=7 and nutriscore_prediction<18 :\n",
    "                    text0.value = np.round(nutriscore_prediction,0)\n",
    "                    text1.value = str(\"C\")\n",
    "                    IMAGE_all5.value=IMAGE_Pas5.value                             \n",
    "                else : \n",
    "                    if nutriscore_prediction>=18 and nutriscore_prediction<29 :\n",
    "                        text0.value = np.round(nutriscore_prediction,0)\n",
    "                        text1.value = str(\"D\")\n",
    "                        IMAGE_all5.value=IMAGE_Med5.value\n",
    "                       \n",
    "                    else :\n",
    "                        if nutriscore_prediction>=29 :\n",
    "                            text0.value = np.round(nutriscore_prediction,0)\n",
    "                            text1.value = str(\"E\")\n",
    "                            IMAGE_all5.value=IMAGE_Mau5.value\n",
    "                            \n",
    "    \n",
    "    \n",
    "\n",
    "\n",
    "slider1.observe(compute, 'value')\n",
    "slider2.observe(compute, 'value')\n",
    "slider3.observe(compute, 'value')\n",
    "slider4.observe(compute, 'value')\n",
    "slider5.observe(compute, 'value')\n",
    "slider6.observe(compute, 'value')\n",
    "slider7.observe(compute, 'value')\n",
    "slider8.observe(compute, 'value')\n",
    "slider9.observe(compute, 'value')\n",
    "slider10.observe(compute, 'value')\n",
    "slider11.observe(compute, 'value')\n",
    "slider12.observe(compute, 'value')\n",
    "slider13.observe(compute, 'value')\n",
    "slider14.observe(compute, 'value')\n",
    "slider15.observe(compute, 'value')\n",
    "\n",
    "\n",
    "#Mise à 0 par defaut à l'initialisation de l'application\n",
    "slider1.value = 0\n",
    "slider2.value = 0\n",
    "slider3.value = 0\n",
    "slider4.value = 0\n",
    "slider5.value = 0\n",
    "slider6.value = 0\n",
    "slider7.value = 0\n",
    "\n",
    "slider8.value = 0\n",
    "slider9.value = 0\n",
    "slider10.value = 0\n",
    "slider11.value = 0\n",
    "slider12.value = 0\n",
    "slider13.value = 0\n",
    "slider14.value = 0\n",
    "slider15.value = 0\n",
    "\n",
    "\n",
    "#Créatiion de la Vbox pour le visuel\n",
    "widgets.VBox([slider1,slider2,slider3,slider4,slider5,slider6,slider7,text0, text1, IMAGE_all5,slider8,slider9,slider10,slider11,slider12,slider13,slider14,slider15])\n",
    "\n"
   ]
  },
  {
   "cell_type": "code",
   "execution_count": null,
   "id": "4b58923a-c33f-4443-b198-227d8e3e7a30",
   "metadata": {},
   "outputs": [],
   "source": []
  }
 ],
 "metadata": {
  "extensions": {
   "jupyter_dashboards": {
    "activeView": "grid_default",
    "version": 1,
    "views": {
     "grid_default": {
      "cellMargin": 2,
      "defaultCellHeight": 40,
      "maxColumns": 12,
      "name": "grid",
      "type": "grid"
     }
    }
   }
  },
  "kernelspec": {
   "display_name": "Python 3 (ipykernel)",
   "language": "python",
   "name": "python3"
  },
  "language_info": {
   "codemirror_mode": {
    "name": "ipython",
    "version": 3
   },
   "file_extension": ".py",
   "mimetype": "text/x-python",
   "name": "python",
   "nbconvert_exporter": "python",
   "pygments_lexer": "ipython3",
   "version": "3.9.13"
  }
 },
 "nbformat": 4,
 "nbformat_minor": 5
}
