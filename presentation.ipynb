{
 "cells": [
  {
   "cell_type": "markdown",
   "id": "ac6c1b25-535a-4c0e-a0c4-50cbb23bcbde",
   "metadata": {
    "extensions": {
     "jupyter_dashboards": {
      "activeView": "grid_default",
      "views": {
       "grid_default": {
        "col": null,
        "height": 2,
        "hidden": true,
        "locked": true,
        "row": null,
        "width": 2
       }
      }
     }
    },
    "tags": []
   },
   "source": [
    "# Projet 3 : Préparez des données pour un organisme de santé publique\n",
    "<center><a href=\"https://ibb.co/C1ByMSF\"><img src=\"https://i.ibb.co/HF7yx9Q/sante-publique-france.png\" alt=\"sante-publique-france\" border=\"0\"></a></center>\n",
    "\n",
    "\n"
   ]
  },
  {
   "cell_type": "markdown",
   "id": "dacdd4d4-78d7-4e58-816a-3726ddec9547",
   "metadata": {
    "jp-MarkdownHeadingCollapsed": true,
    "tags": []
   },
   "source": [
    "# 1. INTRODUCTION\n",
    "## Contexte\n",
    "\n",
    "L'agence Santé publique France souhaite rendre les données de santé publique plus accessibles, pour qu’elles soient utilisables par ses agents. \n",
    "\n",
    "## Objectif \n",
    "Cette étude servira à proposer une idée d'application à l'Agence Santé Publique France, en lien avec la nutrition en utilisant les données de Open Food Fact.\n",
    "<center><a href=\"https://imgbb.com/\"><img src=\"https://i.ibb.co/9vzpxHg/OFF.jpg\" alt=\"OFF\" border=\"0\"></a></center>"
   ]
  },
  {
   "cell_type": "markdown",
   "id": "5ca584e7-2cc9-4de8-b80a-7eb950ef0bb2",
   "metadata": {
    "extensions": {
     "jupyter_dashboards": {
      "activeView": "grid_default",
      "views": {
       "grid_default": {
        "col": null,
        "height": 2,
        "hidden": true,
        "locked": true,
        "row": null,
        "width": 2
       }
      }
     }
    },
    "jp-MarkdownHeadingCollapsed": true,
    "tags": []
   },
   "source": [
    "# 2. Démarche méthodologique\n",
    "\n",
    "Dans un premier temps, je vais <a href=\"projet3.ipynb#C23\">charger</a> le fichier source qui sera être notre point d'entrée. Ensuite je ferai un **inventaire** et un **nettoyage** du jeu de données (ex : suppression des colonnes vides) afin d'avoir un dataset \"propre\" pour l'analyse des données. Concernant l'analyse des données, je vais d'abord identifier les variables les plus importantes pour notre application via des analyses multivariées puis une fois les variables identifiées, je ferai une analyse univariée pour chacune d'elle. Une fois l'analyse effectué, je me pencherai sur la création de l'application et plus précisément sur la création d'un modèle permettant à l'application de fonctionner via le framework Voilà. "
   ]
  },
  {
   "cell_type": "markdown",
   "id": "17226077-1517-43d9-b1ab-432602828df1",
   "metadata": {
    "extensions": {
     "jupyter_dashboards": {
      "activeView": "grid_default",
      "views": {
       "grid_default": {
        "col": null,
        "height": 2,
        "hidden": true,
        "locked": true,
        "row": null,
        "width": 2
       }
      }
     }
    },
    "jp-MarkdownHeadingCollapsed": true,
    "tags": []
   },
   "source": [
    "# 3. Exploration des données"
   ]
  },
  {
   "cell_type": "markdown",
   "id": "9aaec49f-6ea7-4190-b923-8f6b4800eac9",
   "metadata": {
    "jp-MarkdownHeadingCollapsed": true,
    "tags": []
   },
   "source": [
    "## <a href=\"projet3.ipynb#C31\">3.1 Chargement<a>"
   ]
  },
  {
   "cell_type": "markdown",
   "id": "ca439f4f-5edf-40a3-a4e4-30e44dc2eb7c",
   "metadata": {},
   "source": [
    "Chargement du fichier CSV, des librairies et des fonctions utiles. "
   ]
  },
  {
   "cell_type": "markdown",
   "id": "96dd54ea-31f7-4477-b95e-7be6d65f531c",
   "metadata": {
    "extensions": {
     "jupyter_dashboards": {
      "activeView": "grid_default",
      "views": {
       "grid_default": {
        "col": null,
        "height": 2,
        "hidden": true,
        "locked": true,
        "row": null,
        "width": 2
       }
      }
     }
    },
    "jp-MarkdownHeadingCollapsed": true,
    "tags": []
   },
   "source": [
    "## 3.2 Présentation de la structure"
   ]
  },
  {
   "cell_type": "markdown",
   "id": "28a08174-bd20-45e2-a430-0a0613d7b028",
   "metadata": {
    "extensions": {
     "jupyter_dashboards": {
      "activeView": "grid_default",
      "views": {
       "grid_default": {
        "col": null,
        "height": 2,
        "hidden": true,
        "locked": true,
        "row": null,
        "width": 2
       }
      }
     }
    },
    "jp-MarkdownHeadingCollapsed": true,
    "tags": []
   },
   "source": [
    "###  <a href=\"projet3.ipynb#C321\">3.2.1 Nombre de lignes et de colonnes<a>"
   ]
  },
  {
   "cell_type": "markdown",
   "id": "1ef05112-1329-4a52-80c9-3e60934125d4",
   "metadata": {
    "extensions": {
     "jupyter_dashboards": {
      "activeView": "grid_default",
      "views": {
       "grid_default": {
        "col": null,
        "height": 2,
        "hidden": true,
        "locked": true,
        "row": null,
        "width": 2
       }
      }
     }
    },
    "jp-MarkdownHeadingCollapsed": true,
    "tags": []
   },
   "source": [
    "Le jeu de données est composé de 320749 lignes et 162 colonnes. J'ai regroupé ces colonnes en 5 catégories :<br> \n",
    "Voici la configuration du jeu de données après son <a href=\"projet3.ipynb#C22\">chargement<a> : \n",
    "\n",
    "<table>\n",
    "     <caption>Configuration du jeu de données représentant 320749 lignes et 162 colonnes</caption>\n",
    "      <tr>\n",
    "        <th><center>N°</center></th>\n",
    "        <th><center>Catégorie</center></th>\n",
    "        <th><center>Nombre de colonnes</center></th>\n",
    "      </tr>\n",
    "      <tr>\n",
    "        <td><center>1</center></td>\n",
    "        <td><center>Informations générales</center></td>\n",
    "        <td><center>10</center></td>\n",
    "      </tr>\n",
    "         <tr>\n",
    "        <td><center>2</center></td>\n",
    "        <td><center>Caractéristiques physiques</center></td>\n",
    "        <td><center>24</center></td>\n",
    "      </tr>\n",
    "         <tr>\n",
    "        <td><center>3</center></td>\n",
    "        <td><center>Compositions et origines</center></td>\n",
    "        <td><center>27</center></td>\n",
    "      </tr>\n",
    "         <tr>\n",
    "        <td><center>4</center></td>\n",
    "        <td><center>Valeurs nutritives</center></td>\n",
    "        <td><center>94</center></td>\n",
    "      </tr>\n",
    "         <tr>\n",
    "        <td><center>5</center></td>\n",
    "        <td><center>Impact environnemental et nutri-score</center></td>\n",
    "        <td><center>7</center></td>\n",
    "      </tr>\n",
    "</table>\n",
    "De manière globale le jeu de donnée n’est pas complet et certaines informations ne vont pas être utiles."
   ]
  },
  {
   "cell_type": "markdown",
   "id": "e72e3d9f-3ff6-46af-b07a-15b80700971c",
   "metadata": {
    "extensions": {
     "jupyter_dashboards": {
      "activeView": "grid_default",
      "views": {
       "grid_default": {
        "col": null,
        "height": 2,
        "hidden": true,
        "locked": true,
        "row": null,
        "width": 2
       }
      }
     }
    },
    "jp-MarkdownHeadingCollapsed": true,
    "tags": []
   },
   "source": [
    "### <a href=\"projet3.ipynb#C322\">3.2.2 Types de données<a>"
   ]
  },
  {
   "cell_type": "markdown",
   "id": "2c334f8d-c69f-49ac-8953-137251971c01",
   "metadata": {
    "extensions": {
     "jupyter_dashboards": {
      "activeView": "grid_default",
      "views": {
       "grid_default": {
        "col": null,
        "height": 2,
        "hidden": true,
        "locked": true,
        "row": null,
        "width": 2
       }
      }
     }
    }
   },
   "source": [
    "<table>\n",
    "    <caption>Types de données<a></caption>\n",
    "      <tr>\n",
    "        <th><center>N°</center></th>\n",
    "        <th><center>Type</center></th>\n",
    "        <th><center>Quantité</center></th>\n",
    "      </tr>\n",
    "      <tr>\n",
    "        <td><center>1</center></td>\n",
    "        <td><center>float64</center></td>\n",
    "        <td><center>108</center></td>\n",
    "      </tr>\n",
    "      <tr>\n",
    "        <td><center>2</center></td>\n",
    "        <td><center>object</center></td>\n",
    "        <td><center>52</center></td>\n",
    "      </tr>\n",
    "       <tr>\n",
    "        <td><center>3</center></td>\n",
    "        <td><center>int64</center></td>\n",
    "        <td><center>2</center></td>\n",
    "      </tr>\n",
    "</table>"
   ]
  },
  {
   "cell_type": "markdown",
   "id": "83dc842d-a364-424b-984d-0097a24bccfa",
   "metadata": {
    "jp-MarkdownHeadingCollapsed": true,
    "tags": []
   },
   "source": [
    "## 3.3 Nettoyage"
   ]
  },
  {
   "cell_type": "markdown",
   "id": "fa8782d8-6978-43ba-bef5-ae16954e6ee8",
   "metadata": {
    "extensions": {
     "jupyter_dashboards": {
      "activeView": "grid_default",
      "views": {
       "grid_default": {
        "col": null,
        "height": 2,
        "hidden": true,
        "locked": true,
        "row": null,
        "width": 2
       }
      }
     }
    },
    "jp-MarkdownHeadingCollapsed": true,
    "tags": []
   },
   "source": [
    "### <a href=\"projet3.ipynb#C331\">3.3.1 Valeurs manquantes<a>"
   ]
  },
  {
   "cell_type": "markdown",
   "id": "89391132-eb3d-4266-84f2-93eb90c442ce",
   "metadata": {
    "extensions": {
     "jupyter_dashboards": {
      "activeView": "grid_default",
      "views": {
       "grid_default": {
        "col": null,
        "height": 2,
        "hidden": true,
        "locked": true,
        "row": null,
        "width": 2
       }
      }
     }
    },
    "jp-MarkdownHeadingCollapsed": true,
    "tags": []
   },
   "source": [
    "#### <a href=\"projet3.ipynb#C3311\">3.3.1.1 Suppression des colonnes vides<a> "
   ]
  },
  {
   "cell_type": "markdown",
   "id": "e01126df-8472-40b8-95e0-8238c17a6240",
   "metadata": {
    "extensions": {
     "jupyter_dashboards": {
      "activeView": "grid_default",
      "views": {
       "grid_default": {
        "col": null,
        "height": 2,
        "hidden": true,
        "locked": true,
        "row": null,
        "width": 2
       }
      }
     }
    },
    "tags": []
   },
   "source": [
    "Les 21 colonnes suivantes sont vides à 100%. Elles sont donc supprimées : \n",
    "    \n",
    " <table>\n",
    "    <caption>Colonne 100% vides</caption>\n",
    "      <tr>\n",
    "        <th><center>N°</center></th>\n",
    "        <th><center>Nom</center></th>\n",
    "        <th><center>Quantité manquante</center></th>\n",
    "        <th><center>Pourcentage</center></th>\n",
    "        <th><center>Action</center></th>\n",
    "      </tr>\n",
    "      <tr>\n",
    "        <td><center>1<center></td>\n",
    "        <td><center>water-hardness_100g<center></td>\n",
    "        <td><center>320749</center></td>\n",
    "        <td><center>100 %</center></td>\n",
    "        <td><center>Suppression</center></td>\n",
    "      </tr>\n",
    "        <tr>\n",
    "        <td><center>2<center></td>\n",
    "        <td><center>no_nutriments<center></td>\n",
    "        <td><center>320749</center></td>\n",
    "        <td><center>100 %</center></td>\n",
    "        <td><center>Suppression</center></td>\n",
    "      </tr>\n",
    "      </tr>\n",
    "        <tr>\n",
    "        <td><center>3<center></td>\n",
    "        <td><center>elaidic-acid_100g<center></td>\n",
    "        <td><center>320749</center></td>\n",
    "        <td><center>100 %</center></td>\n",
    "        <td><center>Suppression</center></td>\n",
    "      </tr>\n",
    "      </tr>\n",
    "        <tr>\n",
    "        <td><center>4<center></td>\n",
    "        <td><center>ingredients_that_may_be_from_palm_oil<center></td>\n",
    "        <td><center>320749</center></td>\n",
    "        <td><center>100 %</center></td>\n",
    "        <td><center>Suppression</center></td>\n",
    "      </tr>\n",
    "      </tr>\n",
    "        <tr>\n",
    "        <td><center>5<center></td>\n",
    "        <td><center>nutrition_grade_uk<center></td>\n",
    "        <td><center>320749</center></td>\n",
    "        <td><center>100 %</center></td>\n",
    "        <td><center>Suppression</center></td>\n",
    "      </tr>\n",
    "      </tr>\n",
    "        <tr>\n",
    "        <td><center>6<center></td>\n",
    "        <td><center>nervonic-acid_100g<center></td>\n",
    "        <td><center>320749</center></td>\n",
    "        <td><center>100 %</center></td>\n",
    "        <td><center>Suppression</center></td>\n",
    "      </tr>\n",
    "      </tr>\n",
    "        <tr>\n",
    "        <td><center>7<center></td>\n",
    "        <td><center>erucic-acid_100g<center></td>\n",
    "        <td><center>320749</center></td>\n",
    "        <td><center>100 %</center></td>\n",
    "        <td><center>Suppression</center></td>\n",
    "      </tr>\n",
    "       </tr>\n",
    "        <tr>\n",
    "        <td><center>8<center></td>\n",
    "        <td><center>mead-acid_100g<center></td>\n",
    "        <td><center>320749</center></td>\n",
    "        <td><center>100 %</center></td>\n",
    "        <td><center>Suppression</center></td>\n",
    "      </tr>\n",
    "      </tr>\n",
    "        <tr>\n",
    "        <td><center>9<center></td>\n",
    "        <td><center>butyric-acid_100g<center></td>\n",
    "        <td><center>320749</center></td>\n",
    "        <td><center>100 %</center></td>\n",
    "        <td><center>Suppression</center></td>\n",
    "      </tr>\n",
    "      </tr>\n",
    "        <tr>\n",
    "        <td><center>10<center></td>\n",
    "        <td><center>caproic-acid_100g<center></td>\n",
    "        <td><center>320749</center></td>\n",
    "        <td><center>100 %</center></td>\n",
    "        <td><center>Suppression</center></td>\n",
    "      </tr>\n",
    "      </tr>\n",
    "        <tr>\n",
    "        <td><center>11<center></td>\n",
    "        <td><center>ingredients_from_palm_oil<center></td>\n",
    "        <td><center>320749</center></td>\n",
    "        <td><center>100 %</center></td>\n",
    "        <td><center>Suppression</center></td>\n",
    "      </tr>\n",
    "      </tr>\n",
    "        <tr>\n",
    "        <td><center>12<center></td>\n",
    "        <td><center>lignoceric-acid_100g<center></td>\n",
    "        <td><center>320749</center></td>\n",
    "        <td><center>100 %</center></td>\n",
    "        <td><center>Suppression</center></td>\n",
    "      </tr>\n",
    "      </tr>\n",
    "        <tr>\n",
    "        <td><center>13<center></td>\n",
    "        <td><center>glycemic-index_100g<center></td>\n",
    "        <td><center>320749</center></td>\n",
    "        <td><center>100 %</center></td>\n",
    "        <td><center>Suppression</center></td>\n",
    "      </tr>\n",
    "      </tr>\n",
    "        <tr>\n",
    "        <td><center>14<center></td>\n",
    "        <td><center>chlorophyl_100g<center></td>\n",
    "        <td><center>320749</center></td>\n",
    "        <td><center>100 %</center></td>\n",
    "        <td><center>Suppression</center></td>\n",
    "      </tr>\n",
    "      </tr>\n",
    "        <tr>\n",
    "        <td><center>15<center></td>\n",
    "        <td><center>melissic-acid_100g<center></td>\n",
    "        <td><center>320749</center></td>\n",
    "        <td><center>100 %</center></td>\n",
    "        <td><center>Suppression</center></td>\n",
    "      </tr>     \n",
    "      </tr>\n",
    "        <tr>\n",
    "        <td><center>16<center></td>\n",
    "        <td><center>cerotic-acid_100g<center></td>\n",
    "        <td><center>320749</center></td>\n",
    "        <td><center>100 %</center></td>\n",
    "        <td><center>Suppression</center></td>\n",
    "      </tr>\n",
    "      </tr>\n",
    "        <tr>\n",
    "        <td><center>17<center></td>\n",
    "        <td><center>dihomo-gamma-linolenic-acid_100g<center></td>\n",
    "        <td><center>320749</center></td>\n",
    "        <td><center>100 %</center></td>\n",
    "        <td><center>Suppression</center></td>\n",
    "      </tr>\n",
    "      </tr>\n",
    "        <tr>\n",
    "        <td><center>18<center></td>\n",
    "        <td><center>gondoic-acid_100g<center></td>\n",
    "        <td><center>320749</center></td>\n",
    "        <td><center>100 %</center></td>\n",
    "        <td><center>Suppression</center></td>\n",
    "      </tr>\n",
    "      </tr>\n",
    "        <tr>\n",
    "        <td><center>19<center></td>\n",
    "        <td><center>Cities<center></td>\n",
    "        <td><center>320749</center></td>\n",
    "        <td><center>100 %</center></td>\n",
    "        <td><center>Suppression</center></td>\n",
    "      </tr>\n",
    "      </tr>\n",
    "        <tr>\n",
    "        <td><center>20<center></td>\n",
    "        <td><center>behenic-acid_100gbehenic-acid_100g<center></td>\n",
    "        <td><center>320749</center></td>\n",
    "        <td><center>100 %</center></td>\n",
    "        <td><center>Suppression</center></td>\n",
    "      </tr>\n",
    "      </tr>\n",
    "        <tr>\n",
    "        <td><center>21<center></td>\n",
    "        <td><center>allergens_fr<center></td>\n",
    "        <td><center>320749</center></td>\n",
    "        <td><center>100 %</center></td>\n",
    "        <td><center>Suppression</center></td>\n",
    "      </tr>\n",
    "</table>  \n"
   ]
  },
  {
   "cell_type": "markdown",
   "id": "c2ddde63-51da-43d4-9652-994f1cacfa0f",
   "metadata": {
    "extensions": {
     "jupyter_dashboards": {
      "activeView": "grid_default",
      "views": {
       "grid_default": {
        "col": null,
        "height": 2,
        "hidden": true,
        "locked": true,
        "row": null,
        "width": 2
       }
      }
     }
    }
   },
   "source": [
    "Le dataset est important en termes de taille. On va donc se concentrer sur les informations pertinentes pour l’application c’est-à-dire les valeurs nutritives et les nutri-scores."
   ]
  },
  {
   "cell_type": "markdown",
   "id": "70b2ac93-a263-4aa3-99e5-e5dbb1a99eb1",
   "metadata": {
    "tags": []
   },
   "source": [
    "#### <a href=\"projet3.ipynb#C3312\">3.3.1.2 Valeurs nutritives<a>"
   ]
  },
  {
   "cell_type": "markdown",
   "id": "b297e947-cf73-4455-ac07-e414aa827102",
   "metadata": {
    "extensions": {
     "jupyter_dashboards": {
      "activeView": "grid_default",
      "views": {
       "grid_default": {
        "col": null,
        "height": 2,
        "hidden": true,
        "locked": true,
        "row": null,
        "width": 2
       }
      }
     }
    }
   },
   "source": [
    "Les valeurs nutritives et plus précisément les composés (ex : vitamine C), sont des informations très importantes pour la création de l’application. Ils indiquent la quantité de composé présente dans une portion de 100g (ou 100ml) d’un aliment (ou une boisson).<br>\n",
    "Remarque : 2 colonnes supplémentaires sont consacrées à l’énergie (en kJ), calculées à partir de certains composés (glucides, lipides et protéines).<br>\n",
    "Ces colonnes contiennent des manquants. Cependant si une information est égale à nul, on va la considérer à 0 pour signifier que le produit ne comporte pas ce composé (sauf pour \"énergie\" car tous les produit contiennent de l'énergie). "
   ]
  },
  {
   "cell_type": "markdown",
   "id": "39ec42bb-e72a-4eaa-a19a-e10882c2b8ac",
   "metadata": {},
   "source": [
    "<a href=\"projet3.ipynb#C3313\">3.3.1.3 Qualités nutritives <a><br>"
   ]
  },
  {
   "cell_type": "markdown",
   "id": "6d204db7-c9c2-439f-8cf3-d4bf2aca241e",
   "metadata": {},
   "source": [
    "Dans le dataset, il manque également des valeurs de nutri-score. Ces lignes ne seront pas considérées pour les analyses multivariées (corrélation et de prédiction) mais seront gardés pour les analyses univariées. Ce concerne 31% du dataset : 99623/320749 lignes. "
   ]
  },
  {
   "cell_type": "markdown",
   "id": "388291c7-37d0-406f-b5d9-a0435fb95694",
   "metadata": {
    "extensions": {
     "jupyter_dashboards": {
      "activeView": "grid_default",
      "views": {
       "grid_default": {
        "col": null,
        "height": 2,
        "hidden": true,
        "locked": true,
        "row": null,
        "width": 2
       }
      }
     }
    },
    "jp-MarkdownHeadingCollapsed": true,
    "tags": []
   },
   "source": [
    "### <a href=\"projet3.ipynb#C332\">3.3.2 Détection des colonnes doublons/triplons<a>"
   ]
  },
  {
   "cell_type": "markdown",
   "id": "59f838fe-fa5b-4af4-910d-930d689aef96",
   "metadata": {
    "extensions": {
     "jupyter_dashboards": {
      "activeView": "grid_default",
      "views": {
       "grid_default": {
        "col": null,
        "height": 2,
        "hidden": true,
        "locked": true,
        "row": null,
        "width": 2
       }
      }
     }
    },
    "tags": []
   },
   "source": [
    "15 mêmes sujets sont présents sur 2 ou 3 colonnes. En effet on peut avoir 2 colonnes avec un format de date différent, 2 ou 3 colonnes avec un format des données modifiées (exemple : avec espace ou sans espace), ...On va donc faire le tri de ces colonnes et en garder une seule à chaque fois. Apres vérification des quantités et correction de certaines incohérences sur les valeurs vides dans chacune d’elle, j’ai choisi de n’en garder qu’une seule à chaque fois ; le choix a été fait en fonction du format le plus propice à la compréhension. En Faisant cet exercice, on aura supprimé 20 colonnes (celles en <font color=\"red\">rouge</font> dans le tableau ci-dessous) : \n",
    "            \n",
    " <table>\n",
    "      <caption>Doublons</caption>\n",
    "      <tr>\n",
    "        <th><center>N°</center></th>\n",
    "        <th><center>Nom colonne 1</center></th>\n",
    "        <th><center>Nom colonne 2</center></th>\n",
    "      </tr>\n",
    "      <tr>\n",
    "        <td><center>1</center></td>\n",
    "        <td><center>created_t</center></td>\n",
    "        <td><center><font color=\"red\">created_datetime</font></center></td>\n",
    "      </tr>\n",
    "      <tr>\n",
    "        <td><center>2</center></td>\n",
    "        <td><center>last_modified_t</center></td>\n",
    "        <td><center><font color=\"red\">last_modified_datetime</font></center></td>\n",
    "      </tr>\n",
    "      <tr>\n",
    "        <td><center>3</center></td>\n",
    "        <td><center><font color=\"red\">packaging</font></center></td>\n",
    "        <td><center>packaging_tags</center></td>\n",
    "      </tr>\n",
    "          <tr>\n",
    "        <td><center>4</center></td>\n",
    "        <td><center><font color=\"red\">brands</font></center></td>\n",
    "        <td><center>brands_tags</center></td>\n",
    "      </tr>\n",
    "           <tr>\n",
    "        <td><center>5</center></td>\n",
    "        <td><center><font color=\"red\">origins</font></center></td>\n",
    "        <td><center>origins_tags</center></td>\n",
    "      </tr>\n",
    "           <tr>\n",
    "        <td><center>6</center></td>\n",
    "        <td><center><font color=\"red\">manufacturing_places</font></center></td>\n",
    "        <td><center>manufacturing_places_tags</center></td>\n",
    "      </tr>\n",
    "           <tr>\n",
    "        <td><center>7</center></td>\n",
    "        <td><center><font color=\"red\">emb_codes</font></center></td>\n",
    "        <td><center>emb_codes_tags</center></td>\n",
    "      </tr>\n",
    "       <tr>\n",
    "        <td><center>8</center></td>\n",
    "        <td><center><font color=\"red\">main_category</font></center></td>\n",
    "        <td><center>main_category_fr</center></td>\n",
    "      </tr>\n",
    "       <tr>\n",
    "        <td><center>9</center></td>\n",
    "        <td><center><font color=\"red\">nutrition-score-uk_100g</font></center></td>\n",
    "        <td><center>nutrition-score-fr_100g</center></td>\n",
    "      </tr>\n",
    "       <tr>\n",
    "        <td><center>10</center></td>\n",
    "        <td><center>salt_100g</center></td>\n",
    "        <td><center><font color=\"red\">sodium_100g</font></center></td>\n",
    "      </tr>\n",
    "</table>\n",
    "\n",
    "    \n",
    "<table>\n",
    "      <caption>Triplons</caption>\n",
    "      <tr>\n",
    "        <th><center>N°</center></th>\n",
    "        <th><center>Nom colonne 1</center></th>\n",
    "        <th><center>Nom colonne 2</center></th>\n",
    "        <th><center>Nom colonne 3</center></th>\n",
    "      </tr>\n",
    "      <tr>\n",
    "        <td><center>1</center></td>\n",
    "        <td><center><font color=\"red\">categories</font></center></td>\n",
    "        <td><center><font color=\"red\">categories_tags</font></center></td>\n",
    "        <td><center>categories_fr</center></td>\n",
    "      </tr>\n",
    "      <tr>\n",
    "        <td><center>2</center></td>\n",
    "        <td><center><font color=\"red\">labels</font></center></td>\n",
    "        <td><center><font color=\"red\">labels_tags</font></center></td>\n",
    "        <td><center>labels_fr</center></td>\n",
    "      </tr>\n",
    "      <tr>\n",
    "        <td><center>3</center></td>\n",
    "        <td><center><font color=\"red\">countries</font></center></td>\n",
    "        <td><center><font color=\"red\">countries_tags</font></center></td>\n",
    "        <td><center>countries_fr</center></td>\n",
    "      </tr>\n",
    "          <tr>\n",
    "        <td><center>4</center></td>\n",
    "        <td><center>additives</center></td>\n",
    "        <td><center><font color=\"red\">additives_tags</font></center></td>\n",
    "        <td><center><font color=\"red\">additives_fr</font></center></td>\n",
    "      </tr>\n",
    "           <tr>\n",
    "        <td><center>5</center></td>\n",
    "        <td><center><font color=\"red\">states</center></td>\n",
    "        <td><center><font color=\"red\">states_tags</font></center></td>\n",
    "        <td><center>states_fr</center></td>\n",
    "      </tr>\n",
    "      </tr>\n",
    "</table>\n",
    "\n",
    "Remarque : les colonnes « created_t » et « last_modified_t » ont étées converties au format « datetime »<br>\n",
    "Information : pour \"nutrition-score-fr_100g\" et \"nutrition-score-fr_100g\", les 2 variables sont corrélées à 99% :<br>\n",
    "<center><a href=\"https://imgbb.com/\"><img src=\"https://i.ibb.co/ng7H2VM/CORR99-nutri-score.png\" alt=\"CORR99-nutri-score\" border=\"0\"></a></center>  \n"
   ]
  },
  {
   "cell_type": "markdown",
   "id": "94c25c4c-6d65-4318-b698-bcbdbfde39a2",
   "metadata": {},
   "source": [
    "#### <a href=\"projet3.ipynb#C3143\">Validation répétitions de la colonne **nutrition_grade_fr**  </a>\n",
    "Finalement, la colonne **\"nutrition_grade_fr\"** a bien des <a href=\"projet3.ipynb#C3143\">répétitions comprises entre A et E</a> ce qui est parfait :<br>\n",
    "<center><a href=\"https://imgbb.com/\"><img src=\"https://i.ibb.co/pwmrN3L/Nutriscore.jpg\" alt=\"Nutriscore\" border=\"0\"></a><center><br>\n",
    "    "
   ]
  },
  {
   "cell_type": "markdown",
   "id": "130e6ca8-5eb9-417f-989e-ebe8078f907e",
   "metadata": {
    "extensions": {
     "jupyter_dashboards": {
      "activeView": "grid_default",
      "views": {
       "grid_default": {
        "col": null,
        "height": 2,
        "hidden": true,
        "locked": true,
        "row": null,
        "width": 2
       }
      }
     }
    },
    "jp-MarkdownHeadingCollapsed": true,
    "tags": []
   },
   "source": [
    "### <a href=\"projet3.ipynb#C315\">3.3.3 Outliers<a>   "
   ]
  },
  {
   "cell_type": "markdown",
   "id": "9987e41e-c272-480f-b64e-e5df3e634589",
   "metadata": {
    "extensions": {
     "jupyter_dashboards": {
      "activeView": "grid_default",
      "views": {
       "grid_default": {
        "col": null,
        "height": 2,
        "hidden": true,
        "locked": true,
        "row": null,
        "width": 2
       }
      }
     }
    },
    "tags": []
   },
   "source": [
    "#### <a href=\"projet3.ipynb#C3331\">3.3.3.1 Valeurs minimales et maximales sur les compositions à 100g </a>"
   ]
  },
  {
   "cell_type": "markdown",
   "id": "a2b0e496-6178-43fa-9c50-4bc6b6a9ac40",
   "metadata": {
    "extensions": {
     "jupyter_dashboards": {
      "activeView": "grid_default",
      "views": {
       "grid_default": {
        "col": null,
        "height": 2,
        "hidden": true,
        "locked": true,
        "row": null,
        "width": 2
       }
      }
     }
    },
    "tags": []
   },
   "source": [
    "Pour 100g de nourriture ou de boisson, un des composants peut seulement avoir une masse comprise entre 0g et 100g. Or ce n'est pas le cas pour tous les composants. Voici les colonnes concernées ci-dessous. Les valeurs concernées sont passées à vide. \n",
    "    \n",
    "<table>\n",
    "    <caption>Quantité inférieure à 0g</caption>\n",
    "       <tr>\n",
    "        <th><center>N°</center></th>\n",
    "        <th><center>Nom</center></th>\n",
    "        <th><center>Quantité de lignes</center></th>\n",
    "       </tr> \n",
    "        <tr>\n",
    "        <td><center>1</center></td>\n",
    "        <td><center>trans-fat_100g</center></td>\n",
    "        <td><center>4</center></td>\n",
    "       </tr>\n",
    "       <tr> \n",
    "        <td><center>2</center></td>\n",
    "        <td><center>sugars_100g</center></td>\n",
    "        <td><center>7</center></td>\n",
    "       </tr>\n",
    "      <tr> \n",
    "        <td><center>3</center></td>\n",
    "        <td><center>fiber_100g</center></td>\n",
    "        <td><center>1</center></td>\n",
    "       </tr>\n",
    "      <tr> \n",
    "        <td><center>4</center></td>\n",
    "        <td><center>proteins_100g</center></td>\n",
    "        <td><center>3</center></td>\n",
    "       </tr>\n",
    "      <tr> \n",
    "        <td><center>5</center></td>\n",
    "        <td><center>vitamin-a_100g</center></td>\n",
    "        <td><center>1</center></td>\n",
    "       </tr>\n",
    "      <tr> \n",
    "        <td><center>6</center></td>\n",
    "        <td><center>vitamin-c_100g</center></td>\n",
    "        <td><center>1</center></td>\n",
    "       </tr>\n",
    "      <tr> \n",
    "        <td><center>7</center></td>\n",
    "        <td><center>iron_100g</center></td>\n",
    "        <td><center>1</center></td>\n",
    "       </tr>\n",
    "      <tr> \n",
    "        <td><center>8</center></td>\n",
    "        <td><center>copper_100g</center></td>\n",
    "        <td><center>1</center></td>\n",
    "       </tr>\n",
    "       <tr> \n",
    "        <td><center>9</center></td>\n",
    "        <td><center>selenium_100g</center></td>\n",
    "        <td><center>1</center></td>\n",
    "       </tr>\n",
    "      <tr> \n",
    "        <td><center><b>TOTAL</b></center></td>\n",
    "        <td><center><b>20 lignes</b></center></td>\n",
    "        <td><center><b>0.006 %</b></center></td>\n",
    "       </tr>\n",
    "</table>\n",
    "<center>------------------------------------------------------</center> \n",
    "    \n",
    "<table>\n",
    "    <caption>Quantité supérieure à 0g</caption>\n",
    "       <tr>\n",
    "        <th><center>N°</center></th>\n",
    "        <th><center>Nom</center></th>\n",
    "        <th><center>Quantité de lignes</center></th>\n",
    "       </tr> \n",
    "        <tr>\n",
    "        <td><center>1</center></td>\n",
    "        <td><center>fat_100g</center></td>\n",
    "        <td><center>4</center></td>\n",
    "       </tr>\n",
    "       <tr> \n",
    "        <td><center>2</center></td>\n",
    "        <td><center>saturated-fat_100g</center></td>\n",
    "        <td><center>3</center></td>\n",
    "       </tr>\n",
    "      <tr> \n",
    "        <td><center>3</center></td>\n",
    "        <td><center>monounsaturated-fat_100g</center></td>\n",
    "        <td><center>1</center></td>\n",
    "       </tr>\n",
    "      <tr> \n",
    "        <td><center>4</center></td>\n",
    "        <td><center>trans-fat_100g</center></td>\n",
    "        <td><center>5</center></td>\n",
    "       </tr>\n",
    "      <tr> \n",
    "        <td><center>5</center></td>\n",
    "        <td><center>carbohydrates_100g</center></td>\n",
    "        <td><center>19</center></td>\n",
    "       </tr>\n",
    "      <tr> \n",
    "        <td><center>6</center></td>\n",
    "        <td><center>sugars_100g</center></td>\n",
    "        <td><center>12</center></td>\n",
    "       </tr>\n",
    "      <tr> \n",
    "        <td><center>7</center></td>\n",
    "        <td><center>fructose_100g</center></td>\n",
    "        <td><center>1</center></td>\n",
    "       </tr>\n",
    "      <tr> \n",
    "        <td><center>8</center></td>\n",
    "        <td><center>fiber_100g</center></td>\n",
    "        <td><center>4</center></td>\n",
    "       </tr>\n",
    "       <tr> \n",
    "        <td><center>9</center></td>\n",
    "        <td><center>proteins_100g</center></td>\n",
    "        <td><center>1</center></td>\n",
    "       </tr>\n",
    "       <tr> \n",
    "         <tr>\n",
    "        <td><center>10</center></td>\n",
    "        <td><center>salt_100g</center></td>\n",
    "        <td><center>158</center></td>\n",
    "       </tr>\n",
    "      <tr> \n",
    "        <td><center>11</center></td>\n",
    "        <td><center>vitamin-c_100g</center></td>\n",
    "        <td><center>3</center></td>\n",
    "       </tr>\n",
    "      <tr> \n",
    "        <td><center>12</center></td>\n",
    "        <td><center>vitamin-b1_100g</center></td>\n",
    "        <td><center>1</center></td>\n",
    "       </tr>\n",
    "      <tr> \n",
    "        <td><center>13</center></td>\n",
    "        <td><center>folates_100g</center></td>\n",
    "        <td><center>3</center></td>\n",
    "       </tr>\n",
    "      <tr> \n",
    "        <td><center>14</center></td>\n",
    "        <td><center>potassium_100g</center></td>\n",
    "        <td><center>2</center></td>\n",
    "       </tr>\n",
    "      <tr> \n",
    "        <td><center>15</center></td>\n",
    "        <td><center>calcium_100g</center></td>\n",
    "        <td><center>10</center></td>\n",
    "       </tr>\n",
    "      <tr> \n",
    "        <td><center>16</center></td>\n",
    "        <td><center>phosphorus_100g</center></td>\n",
    "        <td><center>5</center></td>\n",
    "       </tr>\n",
    "       <tr> \n",
    "        <td><center>17</center></td>\n",
    "        <td><center>magnesium_100g</center></td>\n",
    "        <td><center>6</center></td>\n",
    "       </tr>\n",
    "      <tr> \n",
    "        <td><center><b>TOTAL</b></center></td>\n",
    "        <td><center><b>238 lignes</b></center></td>\n",
    "        <td><center><b>0.07 %</b></center></td>\n",
    "       </tr>\n",
    "</table>\n",
    "\n",
    "Remarque : la composition impacte le nutri-score. Par conséquent, au vu de leur faible % en termes de quantité, les colonnes **nutrition-score-fr_100g** et **nutrition_grade_fr** ont été mises à vide pour les lignes concernées ci-dessus.\n",
    "    \n",
    "\n",
    "    "
   ]
  },
  {
   "cell_type": "markdown",
   "id": "8f48ecca-7252-4712-a874-1d8db0eae002",
   "metadata": {
    "extensions": {
     "jupyter_dashboards": {
      "activeView": "grid_default",
      "views": {
       "grid_default": {
        "col": null,
        "height": 2,
        "hidden": true,
        "locked": true,
        "row": null,
        "width": 2
       }
      }
     }
    },
    "tags": []
   },
   "source": [
    "#### <a href=\"projet3.ipynb#C3332\">3.3.3.2 Notation </a>"
   ]
  },
  {
   "cell_type": "markdown",
   "id": "4653ab50-7327-437c-a04a-9707a09f59d2",
   "metadata": {
    "extensions": {
     "jupyter_dashboards": {
      "activeView": "grid_default",
      "views": {
       "grid_default": {
        "col": null,
        "height": 2,
        "hidden": true,
        "locked": true,
        "row": null,
        "width": 2
       }
      }
     }
    },
    "jp-MarkdownHeadingCollapsed": true,
    "tags": []
   },
   "source": [
    "Que ça soit pour les aliments ou les boissons, le nutri-score (représenté par la colonne **nutrition-score-fr_100g**), une fois calculé, est compris entre -15 et 40 ; ce qui est le cas pour notre jeu de données <br>\n",
    " <center><a href=\"https://ibb.co/v1WYRYP\"><img src=\"https://i.ibb.co/H7yd3dz/Moustache-nutrition-score.png\" alt=\"Moustache-nutrition-score\" border=\"0\"></a></center>\n",
    " \n",
    "Nous étudierons un peu plus tard l’affection du score (variable numérique) et du score en lettre (variables catégorielle) par l’analyse ANOVA.\n",
    "<center><a href=\"https://imgbb.com/\"><img src=\"https://i.ibb.co/HKDwVNX/AE.png\" alt=\"AE\" border=\"0\"></a></center>"
   ]
  },
  {
   "cell_type": "markdown",
   "id": "7e937b50-a674-48fe-8a8a-0e1ea1d154fb",
   "metadata": {
    "jp-MarkdownHeadingCollapsed": true,
    "tags": []
   },
   "source": [
    "#### <a href=\"projet3.ipynb#C3333\">3.3.3.3 energy_100g </a>"
   ]
  },
  {
   "cell_type": "markdown",
   "id": "fcd8e2cf-9087-42ac-94e2-768ddea439de",
   "metadata": {},
   "source": [
    "Le beurre, l’un des produits les plus calorique du marché, apporte 3180 kJ pour 100g. Je vais donc mettre la limite max à 4000KJ : Il y 154 valeurs au-dessus de 4000kJ dont une valeur qui est au-dessus de toutes (3 251 373 kJ).<br>\n",
    "<center><a href=\"https://imgbb.com/\"><img src=\"https://i.ibb.co/RPtsWY5/moustache-energy.png\" alt=\"moustache-energy\" border=\"0\"></a></center><br>\n",
    "\n",
    "Je passe ces 154 valeurs à 4000 kJ ce qui correspond à 0.04% du dataset<br>\n",
    "\n",
    "<center><a href=\"https://imgbb.com/\"><img src=\"https://i.ibb.co/ZxgTGs7/moustache-energy-ss-4000.png\" alt=\"moustache-energy-ss-4000\" border=\"0\"></a></center>\n"
   ]
  },
  {
   "cell_type": "markdown",
   "id": "0b1d07c7-0097-498c-beb0-56ad25a3686d",
   "metadata": {},
   "source": [
    "Concernant la limite basse, il y a 8909 lignes ayant une énergie à 0 (2% du dataset). La plupart des aliments ou boissons possèdes des calories donc dans nos analyses on pourra mettre de côté ces exceptions."
   ]
  },
  {
   "cell_type": "markdown",
   "id": "741c3a60-ffb3-41c7-8304-cb88ba0b0012",
   "metadata": {
    "extensions": {
     "jupyter_dashboards": {
      "activeView": "grid_default",
      "views": {
       "grid_default": {
        "col": null,
        "height": 2,
        "hidden": true,
        "locked": true,
        "row": null,
        "width": 2
       }
      }
     }
    },
    "jp-MarkdownHeadingCollapsed": true,
    "tags": []
   },
   "source": [
    "## <a href=\"projet3.ipynb#C34\">3.4 Bilan<a>  "
   ]
  },
  {
   "cell_type": "markdown",
   "id": "3030333d-a658-4043-852b-0f587c8e05df",
   "metadata": {
    "extensions": {
     "jupyter_dashboards": {
      "activeView": "grid_default",
      "views": {
       "grid_default": {
        "col": null,
        "height": 2,
        "hidden": true,
        "locked": true,
        "row": null,
        "width": 2
       }
      }
     }
    },
    "jp-MarkdownHeadingCollapsed": true,
    "tags": []
   },
   "source": [
    "<table>\n",
    "     <caption>Configuration du jeu de données mis à jour : 320749 lignes (-0.007%) et 123 colonnes (-24%)</caption>\n",
    "      <tr>\n",
    "        <th><center>N°</center></th>\n",
    "        <th><center>Catégorie</center></th>\n",
    "        <th><center>Nombre de colonnes</center></th>\n",
    "      </tr>\n",
    "      <tr>\n",
    "        <td><center>1</center></td>\n",
    "        <td><center>Informations générales</center></td>\n",
    "        <td><center>8 au lieu de 10</center></td>\n",
    "      </tr>\n",
    "         <tr>\n",
    "        <td><center>2</center></td>\n",
    "        <td><center>Caractéristiques physiques</center></td>\n",
    "        <td><center>12 au lieu de 24</center></td>\n",
    "      </tr>\n",
    "         <tr>\n",
    "        <td><center>3</center></td>\n",
    "        <td><center>Compositions et origines</center></td>\n",
    "        <td><center>18 au lieu de 27</center></td>\n",
    "      </tr>\n",
    "         <tr>\n",
    "        <td><center>4</center></td>\n",
    "        <td><center>Valeurs nutritives</center></td>\n",
    "        <td><center>80 au lieu de 94</center></td>\n",
    "      </tr>\n",
    "         <tr>\n",
    "        <td><center>5</center></td>\n",
    "        <td><center>Impact environnemental et nutriscore</center></td>\n",
    "        <td><center>4 au lieu de 7</center></td>\n",
    "      </tr>\n",
    "</table>\n",
    "De manière globale le jeu de donnée n’est pas complet mais les informations présentes sont maintenant exploitables\n",
    "        \n",
    "<table>\n",
    "    <caption>Types de données<a></caption>\n",
    "      <tr>\n",
    "        <th><center>N°</center></th>\n",
    "        <th><center>Type</center></th>\n",
    "        <th><center>Quantité</center></th>\n",
    "      </tr>\n",
    "      <tr>\n",
    "        <td><center>1</center></td>\n",
    "        <td><center>Float64</center></td>\n",
    "        <td><center>86</center></td>\n",
    "      </tr>\n",
    "          <tr>\n",
    "        <td><center>2</center></td>\n",
    "        <td><center>object</center></td>\n",
    "        <td><center>34</center></td>\n",
    "      </tr\n",
    "      </tr>\n",
    "        <tr>\n",
    "        <td><center>3</center></td>\n",
    "        <td><center>datetime</center></td>\n",
    "        <td><center>2</center></td>\n",
    "        </tr>\n",
    "</table>\n",
    "            \n",
    "Finalement, les outliers sont maintenant cohérents.<br>\n",
    "\n",
    "\n",
    "\n",
    "\n"
   ]
  },
  {
   "cell_type": "markdown",
   "id": "79fc5276-f642-4b69-b51f-10d40feb1cfd",
   "metadata": {
    "tags": []
   },
   "source": [
    "# 4. Analyses"
   ]
  },
  {
   "cell_type": "markdown",
   "id": "f8d74477-1751-4619-9888-039f411e6c5b",
   "metadata": {
    "extensions": {
     "jupyter_dashboards": {
      "activeView": "grid_default",
      "views": {
       "grid_default": {
        "col": null,
        "height": 2,
        "hidden": true,
        "locked": true,
        "row": null,
        "width": 2
       }
      }
     }
    },
    "tags": []
   },
   "source": [
    "## <a href=\"projet3.ipynb#C41\">4.1 Identification des variables pertinentes (analyses multivariées) </a>"
   ]
  },
  {
   "cell_type": "markdown",
   "id": "8f6df8cc-5a9b-4b51-8ca5-62f8a9b73565",
   "metadata": {},
   "source": [
    "Mon étude va se baser sur la valeur nutritive des produits (la target) et plus précisément sur les composantes déterminant cette valeur nutritive afin de créer l’application qui permettra à un consommateur de connaitre la qualité nutritive d’un nouveau produit qu'il souhaite consommer. En analysant les variables, j'ai identifié 2 colonnes \"Targets\" : nutrition-score-fr_100g + \"nutrition-grade-fr\". On va donc analyser les relations entre les variables et ces 2 targets. Lors de la création du modèle final on fera un choix sur la target à utiliser. "
   ]
  },
  {
   "cell_type": "markdown",
   "id": "af8418df-7a44-4683-afab-5f8c6637d209",
   "metadata": {},
   "source": [
    "L’objectif est de trouver un lien entre les variables constituant les aliments et les 2 targets illustrant la valeur nutritive du produit. Par conséquent, je vais mettre de côté toutes les lignes qui ne contiennent pas la valeur du nutri-score (soit 31% du dataset) et ne garder que celles qui la contiennent dans une nouvelle dataframe : data3<br>\n",
    "En conséquence la colonne \"nutrition-grade-fr\" est également 100% \"non vide\" (les vides dans les 2 colonnes sont alignés)<br>\n",
    "En conséquence, les 6 colonnes ci-dessous vont passer à 100% vide. Je les retire donc de data3.  "
   ]
  },
  {
   "cell_type": "markdown",
   "id": "8d81e55d-3705-4c3f-baaa-a65710633784",
   "metadata": {},
   "source": [
    "<table>\n",
    "      <tr>\n",
    "        <th><center>N°</center></th>\n",
    "        <th><center>Nom</center></th>\n",
    "      </tr>\n",
    "      <tr>\n",
    "        <td><center>1</center></td>\n",
    "        <td><center>caprylic-acid_100g</center></td>\n",
    "      </tr>\n",
    "          <tr>\n",
    "        <td><center>2</center></td>\n",
    "        <td><center>capric-acid_100g</center></td>\n",
    "      </tr\n",
    "      </tr>\n",
    "        <tr>\n",
    "        <td><center>3</center></td>\n",
    "        <td><center>myristic-acid_100g</center></td>\n",
    "        </tr>\n",
    "      <tr>\n",
    "        <td><center>4</center></td>\n",
    "        <td><center>palmitic-acid_100g</center></td>\n",
    "        </tr>\n",
    "      <tr>\n",
    "        <td><center>5</center></td>\n",
    "        <td><center>stearic-acid_100gg</center></td>\n",
    "        </tr>\n",
    "      <tr>\n",
    "        <td><center>6</center></td>\n",
    "        <td><center>montanic-acid_100g</center></td>\n",
    "        </tr>\n",
    "</table>"
   ]
  },
  {
   "cell_type": "markdown",
   "id": "514770bc-8405-4332-8684-4ee918d2a2a3",
   "metadata": {},
   "source": [
    "Aussi :<br>\n",
    "-saturated_fat_100g est inclus dans fat_100g <br>\n",
    "-sugars_100g est inclus dans carbohydrates_100g <br>\n",
    "On ne peut donc pas remplacer ces valeurs nulles par 0. Au vu du faible %, je les supprime.\n"
   ]
  },
  {
   "cell_type": "markdown",
   "id": "ddaec36a-53e6-4cdb-aeba-c5ef3ace9a88",
   "metadata": {
    "extensions": {
     "jupyter_dashboards": {
      "activeView": "grid_default",
      "views": {
       "grid_default": {
        "col": null,
        "height": 2,
        "hidden": true,
        "locked": true,
        "row": null,
        "width": 2
       }
      }
     }
    }
   },
   "source": [
    "La qualité nutritive d'un produit sera le point central de mon application. Je vais donc détecter les variables les plus corrélées aux 2 targets. Au niveau des variables, on va prioriser les colonnes les plus remplies. La sélection du % de remplissage sera déterminé par rapport à la matrice de corrélation. "
   ]
  },
  {
   "cell_type": "markdown",
   "id": "55b2d757-0141-44e5-8d05-5ea1f54ce1c4",
   "metadata": {
    "extensions": {
     "jupyter_dashboards": {
      "activeView": "grid_default",
      "views": {
       "grid_default": {
        "col": null,
        "height": 2,
        "hidden": true,
        "locked": true,
        "row": null,
        "width": 2
       }
      }
     }
    },
    "jp-MarkdownHeadingCollapsed": true,
    "tags": []
   },
   "source": [
    "### <a href=\"projet3.ipynb#C411\">4.1.1 Variables catégorielles </a>"
   ]
  },
  {
   "cell_type": "markdown",
   "id": "ef310b0d-1638-4cfb-bb4e-8ae4216461e5",
   "metadata": {
    "extensions": {
     "jupyter_dashboards": {
      "activeView": "grid_default",
      "views": {
       "grid_default": {
        "col": null,
        "height": 2,
        "hidden": true,
        "locked": true,
        "row": null,
        "width": 2
       }
      }
     }
    },
    "tags": []
   },
   "source": [
    "#### <a href=\"projet3.ipynb#C4111\">4.1.1.1 Attribution du \"nutrition_grade_fr\" au \"nutrition-score-fr_100g </a>"
   ]
  },
  {
   "cell_type": "markdown",
   "id": "94f497d4-5a70-4d5b-b4fa-3ac7faffdf2d",
   "metadata": {
    "extensions": {
     "jupyter_dashboards": {
      "activeView": "grid_default",
      "views": {
       "grid_default": {
        "col": null,
        "height": 2,
        "hidden": true,
        "locked": true,
        "row": null,
        "width": 2
       }
      }
     }
    }
   },
   "source": [
    "Seule cette variable catégorielle est pertinente pour notre objectif.<br>\n",
    "Le rapport de corrélation entre les 2 variables est de 93% calcul via la méthode ANOVA). Vérifions l'attribution de la lettre au score : "
   ]
  },
  {
   "cell_type": "markdown",
   "id": "f1fe7a16-2f02-4c52-b709-d49a9a1b06b3",
   "metadata": {
    "extensions": {
     "jupyter_dashboards": {
      "activeView": "grid_default",
      "views": {
       "grid_default": {
        "col": null,
        "height": 2,
        "hidden": true,
        "locked": true,
        "row": null,
        "width": 2
       }
      }
     }
    }
   },
   "source": [
    "La colonne **\"nutrition_grade_fr\"**  est la traduction en lettre de la colonne **\"nutrition-score-fr_100g\"**. On a vérifié au-dessus qu'elle était bien comprise entre A et E. Afin de vérifier l'affectation des lettres du nutri-score (nutrition_grade_fr) vis à vis du score numérique (nutrition-score-fr_100g), j'affiche un diagramme à moustache pour chacune des lettres ainsi que la répartition du score pour chaque grade :"
   ]
  },
  {
   "cell_type": "markdown",
   "id": "87c6e8b8-29a6-4de8-ba82-a6b0538e8e0b",
   "metadata": {
    "extensions": {
     "jupyter_dashboards": {
      "activeView": "grid_default",
      "views": {
       "grid_default": {
        "col": null,
        "height": 2,
        "hidden": true,
        "locked": true,
        "row": null,
        "width": 2
       }
      }
     }
    }
   },
   "source": [
    "<center><a href=\"https://ibb.co/LPYXHCP\"><img src=\"https://i.ibb.co/xsXtdMs/moustache.png\" alt=\"moustache\" border=\"0\"></a></center>\n",
    "On remarque que l’écart interquartile de chaque lettre est bien séparé des autres, créant ainsi un « escalier ». Cependant certains « outliers » sont en commun avec d’autres lettres ; ce qui n'est pas anormale si nourritures et boissons sont confondus dans le même dataset (voir distinction nourriture/boisson ci-dessous).\n",
    "\n",
    "<center><a href=\"https://ibb.co/5kYzvCP\"><img src=\"https://i.ibb.co/HCNMYRj/A.png\" alt=\"A\" border=\"0\"></a></center>\n",
    "<center><a href=\"https://ibb.co/g30fr5B\"><img src=\"https://i.ibb.co/CzjYwkT/B.png\" alt=\"B\" border=\"0\"></a></center>\n",
    "<center><a href=\"https://ibb.co/GnG8x3q\"><img src=\"https://i.ibb.co/LYBckh3/C.png\" alt=\"C\" border=\"0\"></a></center>\n",
    "<center><a href=\"https://ibb.co/L8hnSvd\"><img src=\"https://i.ibb.co/G03c7FQ/D.png\" alt=\"D\" border=\"0\"></a></center>\n",
    "<center><a href=\"https://ibb.co/gwm5wPg\"><img src=\"https://i.ibb.co/ctkGtCT/E.png\" alt=\"E\" border=\"0\"></a></a></center>\n",
    "Les 5 graphes de dispersions apportent une visibilité plus quantitative sur l’étalement des valeurs de nutri-score pour chaque lettre et plus précisément sur les valeurs les plus représentées :<br>\n",
    "A : -1<br>\n",
    "B : 0<br>\n",
    "C : 3<br>\n",
    "D : 14<br>\n",
    "E : 20<br>"
   ]
  },
  {
   "cell_type": "markdown",
   "id": "af937169-9451-466a-9226-4c2fa6a2a954",
   "metadata": {
    "extensions": {
     "jupyter_dashboards": {
      "activeView": "grid_default",
      "views": {
       "grid_default": {
        "col": null,
        "height": 2,
        "hidden": true,
        "locked": true,
        "row": null,
        "width": 2
       }
      }
     }
    }
   },
   "source": [
    " Or il faut savoir que l'affectation de la lettre va varier en fonction de si c'est de la nourriture ou une boisson :<br>\n",
    "<center><a href=\"https://ibb.co/Xk2nJyg\"><img src=\"https://i.ibb.co/zHn3f8Y/Nutri-Score-overview.png\" alt=\"Nutri-Score-overview\" border=\"0\"></a><br></center>\n",
    "Malgré 2 règles d'affectation, on voit que certaines lettres n'ont pas été correctement attribuées. En effet par exemple, le **nutrition-score-fr_100g** pour un **nutrition_grade_fr** A ne peut pas dépasser -1. Or on voit l'inverse sur le diagramme pour A. Cependant pour le **nutrition_grade_fr** E on peut supposer que les affectations ont bien été réalisées car nous sommes bien dans la fourchette 10:40 pour le **nutrition-score-fr_100g**  (j'ai dit \"supposer\" car il faudrait pour cela séparer la nourriture des boissons pour vérifier qu'une nourriture ayant un **nutrition_grade_fr** E, n'ait pas une valeur de  **nutrition-score-fr_100g** à 10 par exemple)."
   ]
  },
  {
   "cell_type": "markdown",
   "id": "28450e0d-1492-455f-ae14-9ee649eaf863",
   "metadata": {
    "extensions": {
     "jupyter_dashboards": {
      "activeView": "grid_default",
      "views": {
       "grid_default": {
        "col": null,
        "height": 2,
        "hidden": true,
        "locked": true,
        "row": null,
        "width": 2
       }
      }
     }
    }
   },
   "source": [
    "Certaines affectations sont à revoir mais ce n’est pas impactant pour la suite de notre analyse puisque seule la variable nutrition-score-fr_100g (et non nutrition_grade_fr) est pris en compte pour la création du modèle  choix justifié par l’utilisation de la méthode K-Means dans la suite de la présentation."
   ]
  },
  {
   "cell_type": "markdown",
   "id": "bfbb6804-9481-4e8f-925a-c6edccb25070",
   "metadata": {
    "extensions": {
     "jupyter_dashboards": {
      "activeView": "grid_default",
      "views": {
       "grid_default": {
        "col": null,
        "height": 2,
        "hidden": true,
        "locked": true,
        "row": null,
        "width": 2
       }
      }
     }
    },
    "tags": []
   },
   "source": [
    "#### <a href=\"projet3.ipynb#C4112\">4.1.1.2 Autres rapport de corrélations </a>"
   ]
  },
  {
   "cell_type": "markdown",
   "id": "cfa0b40c-6126-45e4-a697-1d23f31c4fc9",
   "metadata": {
    "extensions": {
     "jupyter_dashboards": {
      "activeView": "grid_default",
      "views": {
       "grid_default": {
        "col": null,
        "height": 2,
        "hidden": true,
        "locked": true,
        "row": null,
        "width": 2
       }
      }
     }
    }
   },
   "source": [
    "Le reste des variables catégorielles ne sont pas corrélées à \"nutrition-score-fr_100g\" : ex : Rapport de corrélation avec « creator » = 0,02 \n"
   ]
  },
  {
   "cell_type": "markdown",
   "id": "065e7a2e-b90c-4584-bf0c-9b5557340590",
   "metadata": {
    "extensions": {
     "jupyter_dashboards": {
      "activeView": "grid_default",
      "views": {
       "grid_default": {
        "col": null,
        "height": 2,
        "hidden": true,
        "locked": true,
        "row": null,
        "width": 2
       }
      }
     }
    },
    "jp-MarkdownHeadingCollapsed": true,
    "tags": []
   },
   "source": [
    "### <a href=\"projet3.ipynb#C412\">4.1.2 Variables numériques </a>"
   ]
  },
  {
   "cell_type": "markdown",
   "id": "f6c84b17-35b1-4a13-b047-acd9f5a211cf",
   "metadata": {
    "extensions": {
     "jupyter_dashboards": {
      "activeView": "grid_default",
      "views": {
       "grid_default": {
        "col": null,
        "height": 2,
        "hidden": true,
        "locked": true,
        "row": null,
        "width": 2
       }
      }
     }
    },
    "tags": []
   },
   "source": [
    "#### <a href=\"#C4121\">4.1.2.1 Corrélations </a>"
   ]
  },
  {
   "cell_type": "markdown",
   "id": "94e60175-0977-474c-bca0-e2677c7928e6",
   "metadata": {},
   "source": [
    "Analysons la corrélation entre les variables. Dans un premier temps j'utilise un nombre de colonnes très élevé pour avoir une vision d’ensemble. Affichons les colonnes remplie à plus de 1,2%. La heatmap ci-dessus est classé par ordre de remplissage du plus élevé (en haut à gauche) au moins élevé (en bas à gauche)"
   ]
  },
  {
   "cell_type": "markdown",
   "id": "499ed46e-32c4-4760-a053-40c52baacfe7",
   "metadata": {
    "extensions": {
     "jupyter_dashboards": {
      "activeView": "grid_default",
      "views": {
       "grid_default": {
        "col": null,
        "height": 2,
        "hidden": true,
        "locked": true,
        "row": null,
        "width": 2
       }
      }
     }
    }
   },
   "source": [
    "<center><a href=\"https://ibb.co/6WH8Ftf\"><img src=\"https://i.ibb.co/BCyGB6S/GLOBAL1-2.png\" alt=\"GLOBAL1-2\" border=\"0\"></a></center>"
   ]
  },
  {
   "cell_type": "markdown",
   "id": "e74442fc-523d-4227-b079-991b789a0975",
   "metadata": {},
   "source": [
    "Grace à ce heatmap, on observe les colonnes les plus corrélées entre elles. On se rend compte également d'une corrélation forte sur plusieurs variables pour \"energy-100g\""
   ]
  },
  {
   "cell_type": "markdown",
   "id": "e1073fa7-afca-4bd2-b632-7bdc9ce20513",
   "metadata": {},
   "source": [
    "<center><a href=\"https://ibb.co/M8fsL7D\"><img src=\"https://i.ibb.co/B4GtRBV/GLOBAL86.png\" alt=\"GLOBAL86\" border=\"0\"></a><center>"
   ]
  },
  {
   "cell_type": "markdown",
   "id": "df9a649d-9fc3-4191-a089-c833ed41c052",
   "metadata": {},
   "source": [
    "On remarque que « energy_100g » est fortement corrélée avec 'carbohydrates_100g','proteins_100g', 'sugars_100g', 'saturated-fat_100g', 'fat_100g', 'fiber_100g'. Cela confirme la formule mathématique du calcul de l’énergie qui comprend ces 6 variables.<br>\n",
    "<center><a href=\"https://imgbb.com/\"><img src=\"https://i.ibb.co/WpcwVJF/Energy-100g.png\" alt=\"Energy-100g\" border=\"0\"></a><center>"
   ]
  },
  {
   "cell_type": "markdown",
   "id": "17e4945f-5f48-47c9-aada-376046c3a324",
   "metadata": {},
   "source": [
    "On remarque aussi que « sugars_100g » et « carbohydrates_100g » sont très corrélées. Même chose pour « fat_100g » et « saturated_fat_100g ». Normal car l’un est comprise dans l’autre. En effet sur les étiquettes nous retrouvons \"Glucides dont sucre\" et \"Matières grasse dont acides gras saturés\""
   ]
  },
  {
   "cell_type": "markdown",
   "id": "cb444dfc-baf1-486b-8565-f31af4fa000a",
   "metadata": {},
   "source": [
    "\n",
    "\n",
    "\n",
    "\n",
    "\n",
    "\n",
    "\n",
    "\n"
   ]
  },
  {
   "cell_type": "markdown",
   "id": "7c2f2308-3ad0-4e8a-a87f-0e6567ca7d12",
   "metadata": {},
   "source": [
    "Représentation de l’étalement glucide/sucre :<br>\n",
    "<center><a href=\"https://imgbb.com/\"><img src=\"https://i.ibb.co/P50HYD0/glucide-sucre.png\" alt=\"glucide-sucre\" border=\"0\"></a></center> <br>\n",
    "On ne peut pas avoir plus de sucre que de glucides : erreur de saisie dans la BDD pour les valeurs au-dessus de la diagonale passant par l'origine du repère. 683 lignes concernées = 0,2% du dataset\n",
    "\n",
    "Représentation de l’étalement glucides/nutri-score :<br>\n",
    "<center><a href=\"https://ibb.co/MD1MkdP\"><img src=\"https://i.ibb.co/kgDQ2Zq/carbo-nutri.png\" alt=\"carbo-nutri\" border=\"0\"></a><br></center>\n",
    "\n",
    "Représentation de l’étalement sucre/nutri-score :<br>\n",
    "<center><a href=\"https://ibb.co/F5V7SDR\"><img src=\"https://i.ibb.co/D9pKxR0/sugar-nutri.png\" alt=\"sugar-nutri\" border=\"0\"></a><br></center>\n",
    "On remarque que plus la quantité de sucre augmente et plus la qualité du produit représentée par les 2 variables (lettre et numérique), diminue. Cependant l’augmentation des glucides au global montre l’inverse ce qui prouve que certains glucides sont bons pour la santé."
   ]
  },
  {
   "cell_type": "markdown",
   "id": "63390048-7439-456c-b1e9-71040ba40263",
   "metadata": {},
   "source": [
    "Représentation de l’étalement graisse/graisse saturée <br>\n",
    "<center><a href=\"https://imgbb.com/\"><img src=\"https://i.ibb.co/D5dLpRD/lipide-sat.png\" alt=\"lipide-sat\" border=\"0\"></a></center>\n",
    "\n",
    "On ne peut pas avoir plus de gras saturé que de gras : erreur de saisie dans la BDD pour les valeurs au-dessus de la diagonale passant par l'origine du repère. 354 lignes concernées : 0,1% du dataset.<br>\n",
    "Représentation de l'étalement graisse/nutri-score :<br>\n",
    "<center><a href=\"https://ibb.co/hMcTzng\"><img src=\"https://i.ibb.co/j5zjXx8/fat-nutri.png\" alt=\"fat-nutri\" border=\"0\"></a></center>\n",
    "Représentation de l'étalement graisse saturée/nutri-score :<br>\n",
    "<center><a href=\"https://ibb.co/Y7LYmN4\"><img src=\"https://i.ibb.co/SX3Wb6D/sat-fat-nutri.png\" alt=\"sat-fat-nutri\" border=\"0\"></a></center>\n",
    "On remarque que plus la graisse et la graisse saturée augmentent et plus la qualité du produit représentée par les 2 variables (lettre et numérique), diminue."
   ]
  },
  {
   "cell_type": "markdown",
   "id": "dd259cdd-a48d-4dc0-8ad7-65eca694baba",
   "metadata": {},
   "source": [
    "Représentation de l’étalement énergie/sucre<br>\n",
    "<center><a href=\"https://imgbb.com/\"><img src=\"https://i.ibb.co/Jx2yLnh/energy-sugar.png\" alt=\"energy-sugar\" border=\"0\"></a></center>\n",
    "\n",
    "Représentation de l'étalement énergie/nutri-score :\n",
    "<center><a href=\"https://ibb.co/YpVSDsL\"><img src=\"https://i.ibb.co/xJrbmT7/energy-nutri.png\" alt=\"energy-nutri\" border=\"0\"></a></center>\n"
   ]
  },
  {
   "cell_type": "markdown",
   "id": "f2c81a34-ff32-468b-aa08-b4c4b18d895e",
   "metadata": {},
   "source": [
    "Représentation de toutes les variables corrélées à \"energy-100g\"<br>\n",
    "<center><a href=\"https://ibb.co/DGbSQCr\"><img src=\"https://i.ibb.co/xmsR6jF/pairplot-energy.png\" alt=\"pairplot-energy\" border=\"0\"></a><center>"
   ]
  },
  {
   "cell_type": "markdown",
   "id": "9b1b4c2c-4b74-4915-803b-b1b2936b2854",
   "metadata": {
    "extensions": {
     "jupyter_dashboards": {
      "activeView": "grid_default",
      "views": {
       "grid_default": {
        "col": null,
        "height": 2,
        "hidden": true,
        "locked": true,
        "row": null,
        "width": 2
       }
      }
     }
    }
   },
   "source": [
    "**BILAN CORRELATION :**<br>\n",
    "On remarque 16 variables corrélées (en + et -) au nutri-score. Ces variables sont :<br>\n",
    "<table>\n",
    "      <tr>\n",
    "        <th><center>N°</center></th>\n",
    "        <th><center>Nom</center></th>\n",
    "      </tr>\n",
    "      <tr>\n",
    "        <td><center>1</center></td>\n",
    "        <td><center>salt_100g</center></td>\n",
    "      </tr>\n",
    "          <tr>\n",
    "        <td><center>2</center></td>\n",
    "        <td><center>proteins_100g</center></td>\n",
    "      </tr\n",
    "      </tr>\n",
    "        <tr>\n",
    "        <td><center>3</center></td>\n",
    "        <td><center>sugars_100g</center></td>\n",
    "        </tr>\n",
    "      <tr>\n",
    "        <td><center>4</center></td>\n",
    "        <td><center>carbohydrates_100g</center></td>\n",
    "        </tr>\n",
    "      <tr>\n",
    "        <td><center>5</center></td>\n",
    "        <td><center>saturated_fat_100g</center></td>\n",
    "        </tr>\n",
    "      <tr>\n",
    "        <td><center>6</center></td>\n",
    "        <td><center>fat_100g</center></td>\n",
    "        </tr>\n",
    "     <tr>\n",
    "        <td><center>7</center></td>\n",
    "        <td><center>energy_100g</center></td>\n",
    "        </tr>\n",
    "     <tr>\n",
    "        <td><center>8</center></td>\n",
    "        <td><center>ingredients_that_may_be_from_palm_oil_n</center></td>\n",
    "        </tr>\n",
    "     <tr>\n",
    "        <td><center>9</center></td>\n",
    "        <td><center>ingredients_from_palm_oil_n</center></td>\n",
    "        </tr>\n",
    "         <tr>\n",
    "        <td><center>10</center></td>\n",
    "        <td><center>additives_n</center></td>\n",
    "        </tr>\n",
    "         <tr>\n",
    "        <td><center>11</center></td>\n",
    "        <td><center>fiber_100g</center></td>\n",
    "        </tr>\n",
    "        <tr>\n",
    "        <td><center>12</center></td>\n",
    "        <td><center>polyunsaturated-fat_100g</center></td>\n",
    "        </tr>\n",
    "        <tr>\n",
    "        <td><center>13</center></td>\n",
    "        <td><center>monounsaturated-fat_100g</center></td>\n",
    "        </tr>\n",
    "        <tr>\n",
    "        <td><center>14</center></td>\n",
    "        <td><center>vitamin-d_100g</center></td>\n",
    "        </tr>\n",
    "        <tr>\n",
    "        <td><center>15</center></td>\n",
    "        <td><center>phosphorus_100g</center></td>\n",
    "        </tr>\n",
    "        <tr>\n",
    "        <td><center>16</center></td>\n",
    "        <td><center>fruits-vegetables-nuts_100g</center></td>\n",
    "        </tr>\n",
    "</table><br>\n"
   ]
  },
  {
   "cell_type": "markdown",
   "id": "40bc9648-2da0-4336-bb7a-9bea74c4f262",
   "metadata": {},
   "source": [
    "Croisons ce résultat avec une analyse en composante continue et constatons si d'autres variables rentrent en jeu."
   ]
  },
  {
   "cell_type": "markdown",
   "id": "3a5b83b6-1cde-42b3-a3f0-63cd4add6833",
   "metadata": {
    "extensions": {
     "jupyter_dashboards": {
      "activeView": "grid_default",
      "views": {
       "grid_default": {
        "col": null,
        "height": 2,
        "hidden": true,
        "locked": true,
        "row": null,
        "width": 2
       }
      }
     }
    },
    "jp-MarkdownHeadingCollapsed": true,
    "tags": []
   },
   "source": [
    "#### <a href=\"#C4122\">4.1.2.2 Analyses en composantes principales (ACP) </a>"
   ]
  },
  {
   "cell_type": "markdown",
   "id": "d2477a09-b13f-42e8-b333-ac37c7719b46",
   "metadata": {},
   "source": [
    "Objectif : réduction des dimensions : cela implique la recherche de variables les plus pertinentes qui participent au résultat (nutri-score)"
   ]
  },
  {
   "cell_type": "markdown",
   "id": "16de1f33-8334-4ac7-980b-b18a663060e9",
   "metadata": {
    "extensions": {
     "jupyter_dashboards": {
      "activeView": "grid_default",
      "views": {
       "grid_default": {
        "col": null,
        "height": 2,
        "hidden": true,
        "locked": true,
        "row": null,
        "width": 2
       }
      }
     }
    }
   },
   "source": [
    "En considérant un taux de remplissage supérieurs ou égale à 1.2% (sur le dataset dont nutrition-score-fr_100g est non nul) pour cet ACP, nous allons avoir un jeu de données composé de 31 colonnes et de 203392 lignes ; notre ACP sera donc à 31 dimensions"
   ]
  },
  {
   "cell_type": "markdown",
   "id": "8ff830e7-6564-437f-9a70-9c44ae8bd66c",
   "metadata": {
    "extensions": {
     "jupyter_dashboards": {
      "activeView": "grid_default",
      "views": {
       "grid_default": {
        "col": null,
        "height": 2,
        "hidden": true,
        "locked": true,
        "row": null,
        "width": 2
       }
      }
     }
    }
   },
   "source": [
    "En utilisant les 31 composés utilisés pour la corrélation précédente, j’obtiens le diagramme des éboulis suivant : \n",
    "<center><a href=\"https://imgbb.com/\"><img src=\"https://i.ibb.co/X3PqbFH/Eboulie.png\" alt=\"Eboulie\" border=\"0\"></a></center><br>\n",
    "\n",
    "\n",
    "\n",
    "**Remarque :**<br>\n",
    "-la \"target\" = « nutrition-score » n’est pas incluse dans l’analyse car c’est elle que je recherche<br>\n",
    "-\"energy_100g\" est également mise de côté car elle est déjà bien représentée par d’autres composés présente dans la liste<br>\n",
    "\n",
    "\n",
    "On remarque qu’il faudrait 27 axes d’inertie pour représenter au moins 95% du jeu de données. C’est un peu trop. On va donc effectuer une autre démarche.<br>\n",
    "\n",
    "Autre démarche : considérons maintenant les variables les plus corrélées à au moins 1 des axes d’inertie. Pour cela analysons la heatmap associée :<br>"
   ]
  },
  {
   "cell_type": "markdown",
   "id": "068de3eb-e5b3-4eee-a997-7f69f1213c61",
   "metadata": {
    "extensions": {
     "jupyter_dashboards": {
      "activeView": "grid_default",
      "views": {
       "grid_default": {
        "col": null,
        "height": 2,
        "hidden": true,
        "locked": true,
        "row": null,
        "width": 2
       }
      }
     }
    }
   },
   "source": [
    "<center><a href=\"https://ibb.co/Ms5hvLG\"><img src=\"https://i.ibb.co/qdFnSwW/heatmap.png\" alt=\"heatmap\" border=\"0\"></a><center>\n",
    "\n"
   ]
  },
  {
   "cell_type": "markdown",
   "id": "3d399862-8877-4d5f-9a08-f18a1fce30f4",
   "metadata": {},
   "source": [
    "En ne retenant que les colonnes ayant atteint une corrélation >0,5% sur les axes d’inerties, on détecte les 26 variables suivantes : <br>\n",
    "\n",
    "<table>\n",
    "      <tr>\n",
    "        <th><center>N°</center></th>\n",
    "        <th><center>Nom</center></th>\n",
    "      </tr>\n",
    "      <tr>\n",
    "        <td><center>1</center></td>\n",
    "        <td><center>calcium_100g</center></td>\n",
    "      </tr>\n",
    "          <tr>\n",
    "        <td><center>2</center></td>\n",
    "              <td><center><b><font color=\"green\">carbohydrates_100g</font></b></center></td>\n",
    "      </tr\n",
    "      </tr>\n",
    "        <tr>\n",
    "        <td><center>3</center></td>\n",
    "        <td><center>vitamin-b12_100g</center></td>\n",
    "        </tr>\n",
    "      <tr>\n",
    "        <td><center>4</center></td>\n",
    "        <td><center><b><font color=\"green\">salt_100g</font></b></center></td>\n",
    "        </tr>\n",
    "      <tr>\n",
    "        <td><center>5</center></td>\n",
    "        <td><center><b><font color=\"green\">fruits-vegetables-nuts_100g</font></b></center></td>\n",
    "        </tr>\n",
    "      <tr>\n",
    "        <td><center>6</center></td>\n",
    "        <td><center>folate_100g</center></td>\n",
    "        </tr>\n",
    "     <tr>\n",
    "        <td><center>7</center></td>\n",
    "        <td><center>vitamin-b1_100g</center></td>\n",
    "        </tr>\n",
    "     <tr>\n",
    "        <td><center>8</center></td>\n",
    "        <td><center>vitamin-pp_100g</center></td>\n",
    "        </tr>\n",
    "     <tr>\n",
    "        <td><center>9</center></td>\n",
    "        <td><center><b><font color=\"green\">monounsaturated-fat_100g</font></b></center></td>\n",
    "        </tr>\n",
    "     <tr>\n",
    "        <td><center>10</center></td>\n",
    "        <td><center><b><font color=\"green\">fat_100g</font></b></center></td>\n",
    "        </tr>\n",
    "     <tr>\n",
    "        <td><center>11</center></td>\n",
    "         <td><center>potassium_100g</center></td>\n",
    "        </tr>\n",
    "     <tr>\n",
    "        <td><center>12</center></td>\n",
    "        <td><center>vitamin-a_100g</center></td>\n",
    "        </tr>\n",
    "     <tr>\n",
    "        <td><center>13</center></td>\n",
    "        <td><center><b><font color=\"green\">proteins_100g</font></b></center></td>\n",
    "        </tr>\n",
    "     <tr>\n",
    "        <td><center>14</center></td>\n",
    "        <td><center>trans-fat_100g</center></td>\n",
    "        </tr>\n",
    "     <tr>\n",
    "        <td><center>15</center></td>\n",
    "        <td><center>cholesterol_100g</center></td>\n",
    "        </tr>\n",
    "     <tr>\n",
    "        <td><center>16</center></td>\n",
    "        <td><center>vitamin-b6_100g</center></td>\n",
    "        </tr>\n",
    "     <tr>\n",
    "        <td><center>17</center></td>\n",
    "        <td><center><b><font color=\"green\">phosphorus_100g</font></b></center></td>\n",
    "        </tr>\n",
    "     <tr>\n",
    "        <td><center>18</center></td>\n",
    "        <td><center><b><font color=\"green\">saturated-fat_100g</font></b></center></td>\n",
    "        </tr>\n",
    "     <tr>\n",
    "        <td><center>19</center></td>\n",
    "        <td><center><b><font color=\"green\">sugars_100g</font></b></center></td>\n",
    "        </tr>\n",
    "     <tr>\n",
    "        <td><center>20</center></td>\n",
    "        <td><center>zinc_100g</center></td>\n",
    "        </tr>\n",
    "     <tr>\n",
    "        <td><center>21</center></td>\n",
    "        <td><center><b><font color=\"green\">polyunsaturated-fat_100g</font></b></center></td>\n",
    "        </tr>\n",
    "     <tr>\n",
    "        <td><center>22</center></td>\n",
    "        <td><center>vitamin-c_100g</center></td>\n",
    "        </tr>\n",
    "     <tr>\n",
    "        <td><center>23</center></td>\n",
    "        <td><center><b><font color=\"green\">ingredients_from_palm_oil_n</font></b></center></td>\n",
    "        </tr>\n",
    "     <tr>\n",
    "        <td><center>24</center></td>\n",
    "        <td><center>iron_100g</center></td>\n",
    "        </tr>\n",
    "     <tr>\n",
    "        <td><center>25</center></td>\n",
    "        <td><center>vitamin-b9_100g</center></td>\n",
    "        </tr>\n",
    "         <tr>\n",
    "        <td><center>26</center></td>\n",
    "        <td><center><b><font color=\"green\">vitamin-d_100g</font></b></center></td>\n",
    "        </tr>\n",
    "</table><br>"
   ]
  },
  {
   "cell_type": "markdown",
   "id": "2405c357-5c02-4fa5-b0c3-cbff61b08a33",
   "metadata": {},
   "source": [
    "En prenant en compte une corrélation >50% sur les axes d’inertie on trouve 26 variables dont 12/16 (en vert) déjà trouvées dans la corrélation précédente. "
   ]
  },
  {
   "cell_type": "markdown",
   "id": "0fc09ac8-31a8-4e21-a78d-75fc2a8c2696",
   "metadata": {
    "jp-MarkdownHeadingCollapsed": true,
    "tags": []
   },
   "source": [
    "#### <a href=\"#C4123\">4.1.2.3 Sélection des variables numériques </a>"
   ]
  },
  {
   "cell_type": "markdown",
   "id": "7a8ecfc3-7f77-4d56-9d91-f63a27fccb9c",
   "metadata": {},
   "source": [
    "En prenant une étiquette alimentaire courante nous allons pouvoir sélectionner les variables les plus connues en prenant en compte celle que nous avons relevée lors de la corrélation et de l’ACP  : <br>\n",
    "\n",
    "<table>\n",
    "    <caption>La liste principale</caption>\n",
    "      <tr>\n",
    "        <th><center>N°</center></th>\n",
    "        <th><center>Nom</center></th>\n",
    "      </tr>\n",
    "      <tr>\n",
    "        <td><center>1</center></td>\n",
    "        <td><center>fat_100g</center></td>\n",
    "      </tr>\n",
    "          <tr>\n",
    "        <td><center>2</center></td>\n",
    "        <td><center>saturated_fat_100g</center></td>\n",
    "      </tr\n",
    "      </tr>\n",
    "        <tr>\n",
    "        <td><center>3</center></td>\n",
    "        <td><center>carbohydrates_100g</center></td>\n",
    "        </tr>\n",
    "      <tr>\n",
    "        <td><center>4</center></td>\n",
    "        <td><center>sugars_100g</center></td>\n",
    "        </tr>\n",
    "      <tr>\n",
    "        <td><center>5</center></td>\n",
    "        <td><center>fiber_100g</center></td>\n",
    "        </tr>\n",
    "      <tr>\n",
    "        <td><center>6</center></td>\n",
    "        <td><center>proteins_100g</center></td>\n",
    "        </tr>\n",
    "     <tr>\n",
    "        <td><center>7</center></td>\n",
    "        <td><center>salt_100g</center></td>\n",
    "        </tr>\n",
    "</table><br>\n",
    "\n",
    "\n"
   ]
  },
  {
   "cell_type": "markdown",
   "id": "a17cf5dd-771d-4eab-afb8-5516a65732da",
   "metadata": {},
   "source": [
    "<table>\n",
    "    <caption>La liste complémentaire : vitamines</caption>\n",
    "      <tr>\n",
    "        <th><center>N°</center></th>\n",
    "        <th><center>Nom</center></th>\n",
    "      </tr>\n",
    "      <tr>\n",
    "        <td><center>1</center></td>\n",
    "        <td><center>vitamin-a_100g</center></td>\n",
    "      </tr>\n",
    "          <tr>\n",
    "        <td><center>2</center></td>\n",
    "        <td><center>vitamin-c_100g</center></td>\n",
    "      </tr\n",
    "      </tr>\n",
    "        <tr>\n",
    "        <td><center>3</center></td>\n",
    "        <td><center>vitamin-b1_100g</center></td>\n",
    "        </tr>\n",
    "      <tr>\n",
    "        <td><center>5</center></td>\n",
    "        <td><center>vitamin-b6_100g</center></td>\n",
    "        </tr>\n",
    "      <tr>\n",
    "        <td><center>6</center></td>\n",
    "        <td><center>vitamin-b9_100g</center></td>\n",
    "        </tr>\n",
    "     <tr>\n",
    "        <td><center>7</center></td>\n",
    "        <td><center>vitamin-b12_100g</center></td>\n",
    "        </tr>\n",
    "      <tr>\n",
    "        <td><center>4</center></td>\n",
    "        <td><center>vitamin-d_100g</center></td>\n",
    "        </tr>\n",
    "        <tr>\n",
    "        <td><center>8</center></td>\n",
    "        <td><center>vitamin-pp_100g</center></td>\n",
    "        </tr>\n",
    "</table><br>"
   ]
  },
  {
   "cell_type": "markdown",
   "id": "0934a55e-87ce-467f-ad0c-07dda5fd1856",
   "metadata": {},
   "source": [
    "La liste principale correspond à la liste la plus courante indiquée sur la plupart des produits. L'application fonctionnera donc autour de ces 7 variables ; Cependant, pour certains produits, les autres variables (vitamines) sont indiquées. On va donc donner la possibilité de les renseigner dans l'application."
   ]
  },
  {
   "cell_type": "markdown",
   "id": "0bec9696-f654-47df-8899-f4c5b386bcb3",
   "metadata": {
    "jp-MarkdownHeadingCollapsed": true,
    "tags": []
   },
   "source": [
    "### <a href=\"projet3.ipynb#C413\">4.1.3 Conclusion : la liste de variables sélectionnées </a>"
   ]
  },
  {
   "cell_type": "markdown",
   "id": "4a6fe89d-a7bb-4002-a128-950444432c7e",
   "metadata": {},
   "source": [
    "Voici la liste des 15 variables les plus pertinentes pour notre objectif :<br>\n",
    "\n",
    "Eléments courants :<br>\n",
    "\n",
    "Eléments que l’on trouve de temps en temps<br>\n",
    "\n",
    " <table>\n",
    "    <caption>La liste principale</caption>\n",
    "      <tr>\n",
    "        <th><center>N°</center></th>\n",
    "        <th><center>Nom</center></th>\n",
    "      </tr>\n",
    "      <tr>\n",
    "        <td><center>1</center></td>\n",
    "        <td><center>fat_100g</center></td>\n",
    "      </tr>\n",
    "          <tr>\n",
    "        <td><center>2</center></td>\n",
    "        <td><center>saturated_fat_100g</center></td>\n",
    "      </tr\n",
    "      </tr>\n",
    "        <tr>\n",
    "        <td><center>3</center></td>\n",
    "        <td><center>carbohydrates_100g</center></td>\n",
    "        </tr>\n",
    "      <tr>\n",
    "        <td><center>4</center></td>\n",
    "        <td><center>sugars_100g</center></td>\n",
    "        </tr>\n",
    "      <tr>\n",
    "        <td><center>5</center></td>\n",
    "        <td><center>fiber_100g</center></td>\n",
    "        </tr>\n",
    "      <tr>\n",
    "        <td><center>6</center></td>\n",
    "        <td><center>proteins_100g</center></td>\n",
    "        </tr>\n",
    "     <tr>\n",
    "        <td><center>7</center></td>\n",
    "        <td><center>salt_100g</center></td>\n",
    "        </tr>\n",
    "</table><br>\n",
    "\n",
    "<table>\n",
    "    <caption>La liste complémentaire : vitamines</caption>\n",
    "      <tr>\n",
    "        <th><center>N°</center></th>\n",
    "        <th><center>Nom</center></th>\n",
    "      </tr>\n",
    "      <tr>\n",
    "        <td><center>1</center></td>\n",
    "        <td><center>vitamin-a_100g</center></td>\n",
    "      </tr>\n",
    "          <tr>\n",
    "        <td><center>2</center></td>\n",
    "        <td><center>vitamin-c_100g</center></td>\n",
    "      </tr\n",
    "      </tr>\n",
    "        <tr>\n",
    "        <td><center>3</center></td>\n",
    "        <td><center>vitamin-b1_100g</center></td>\n",
    "        </tr>\n",
    "      <tr>\n",
    "        <td><center>5</center></td>\n",
    "        <td><center>vitamin-b6_100g</center></td>\n",
    "        </tr>\n",
    "      <tr>\n",
    "        <td><center>6</center></td>\n",
    "        <td><center>vitamin-b9_100g</center></td>\n",
    "        </tr>\n",
    "     <tr>\n",
    "        <td><center>7</center></td>\n",
    "        <td><center>vitamin-b12_100g</center></td>\n",
    "        </tr>\n",
    "      <tr>\n",
    "        <td><center>4</center></td>\n",
    "        <td><center>vitamin-d_100g</center></td>\n",
    "        </tr>\n",
    "        <tr>\n",
    "        <td><center>8</center></td>\n",
    "        <td><center>vitamin-pp_100g</center></td>\n",
    "        </tr>\n",
    "</table><br>\n",
    "\n",
    "\n",
    "TOTAL : 15 variables sélectionnées pour notre application\n"
   ]
  },
  {
   "cell_type": "markdown",
   "id": "0873c14e-4b47-4ae8-a516-5cf28bd9dc63",
   "metadata": {
    "extensions": {
     "jupyter_dashboards": {
      "activeView": "grid_default",
      "views": {
       "grid_default": {
        "col": null,
        "height": 2,
        "hidden": true,
        "locked": true,
        "row": null,
        "width": 2
       }
      }
     }
    },
    "jp-MarkdownHeadingCollapsed": true,
    "tags": []
   },
   "source": [
    "## 4.2 Analyses univariées"
   ]
  },
  {
   "cell_type": "markdown",
   "id": "ea8d70fc-ed8f-4b8c-8851-2140c92f3113",
   "metadata": {},
   "source": [
    "Concernant les variables, j’ai en ma possession 86 float64,34 objects et 2 datetimes. Cette quantité importante nous amène à faire des choix sur les colonnes à étudier (voir analyse multivariée : paragraphes <a href=\"projet3.ipynb#C33111\">« corrélation »<a> et <a href=\"projet3.ipynb#C33112\">« analyse en composantes principes (ACP)»<a>"
   ]
  },
  {
   "cell_type": "markdown",
   "id": "764b2ea9-04fb-4a1d-ba9d-0bdbe0723a0b",
   "metadata": {
    "extensions": {
     "jupyter_dashboards": {
      "activeView": "grid_default",
      "views": {
       "grid_default": {
        "col": null,
        "height": 2,
        "hidden": true,
        "locked": true,
        "row": null,
        "width": 2
       }
      }
     }
    },
    "tags": []
   },
   "source": [
    "### <a href=\"projet3.ipynb#C421\">4.2.1 Variables numériques<a>  "
   ]
  },
  {
   "cell_type": "markdown",
   "id": "892d072f-bf3b-45da-954c-e8dec2477680",
   "metadata": {
    "extensions": {
     "jupyter_dashboards": {
      "activeView": "grid_default",
      "views": {
       "grid_default": {
        "col": null,
        "height": 2,
        "hidden": true,
        "locked": true,
        "row": null,
        "width": 2
       }
      }
     }
    },
    "tags": []
   },
   "source": [
    "#### <a href=\"projet3.ipynb#C4211\">4.2.1.1 nutrition-score-fr_100g<a>  "
   ]
  },
  {
   "cell_type": "markdown",
   "id": "4bd23564-d9d9-48dd-84d5-37c61d60ae70",
   "metadata": {
    "extensions": {
     "jupyter_dashboards": {
      "activeView": "grid_default",
      "views": {
       "grid_default": {
        "col": null,
        "height": 2,
        "hidden": true,
        "locked": true,
        "row": null,
        "width": 2
       }
      }
     }
    }
   },
   "source": [
    "<center><a href=\"https://ibb.co/tsPmqS2\"><img src=\"https://i.ibb.co/6PJnH2t/dispersion-nutri-score.png\" alt=\"dispersion-nutri-score\" border=\"0\"></a></center>\n",
    "<center><a href=\"https://ibb.co/yXv2Xfh\"><img src=\"https://i.ibb.co/R9r89vh/dispersion-nutri-score2.jpg\" alt=\"dispersion-nutri-score2\" border=\"0\"></a></center>\n",
    "On remarque que les valeurs sont bien réparties autour de 10 (médiane) avec 2 spikes autour de 0 et 15 : la majorité des produits ont une note se situant autour de ces spikes."
   ]
  },
  {
   "cell_type": "markdown",
   "id": "d15763d3-6c46-4a92-8ede-10a38b8aa64f",
   "metadata": {
    "extensions": {
     "jupyter_dashboards": {
      "activeView": "grid_default",
      "views": {
       "grid_default": {
        "col": null,
        "height": 2,
        "hidden": true,
        "locked": true,
        "row": null,
        "width": 2
       }
      }
     }
    }
   },
   "source": [
    "<table>\n",
    "      <tr>\n",
    "        <th><center>Nom</center></th>\n",
    "        <th><center>Valeur</center></th>\n",
    "      </tr>\n",
    "      <tr>\n",
    "        <td><center>Moyenne</center></td>\n",
    "        <td><center>9.16</center></td>\n",
    "      </tr>\n",
    "        <tr>\n",
    "        <td><center>Mediane</center></td>\n",
    "        <td><center>10</center></td>\n",
    "        </tr>\n",
    "        </tr>\n",
    "       <tr>\n",
    "        <td><center>Mode</center></td>\n",
    "        <td><center>0</center></td>\n",
    "       </tr>\n",
    "          <tr>\n",
    "        <td><center>Ecart-type</center></td>\n",
    "        <td><center>9.05</center></td>\n",
    "      </tr>\n",
    "        <tr>\n",
    "        <td><center>Var</center></td>\n",
    "        <td><center>82</center></td>\n",
    "        </tr>\n",
    "        </tr>\n",
    "       <tr>\n",
    "        <td><center>CV</center></td>\n",
    "        <td><center>1</center></td>\n",
    "       </tr>\n",
    "       <tr>\n",
    "        <td><center>Q1</center></td>\n",
    "        <td><center>1</center></td>\n",
    "       </tr>\n",
    "        <tr>\n",
    "        <td><center>Q2</center></td>\n",
    "        <td><center>10</center></td>\n",
    "       </tr>\n",
    "        <tr>\n",
    "        <td><center>Q3</center></td>\n",
    "        <td><center>16</center></td>\n",
    "       </tr>\n",
    "</table>"
   ]
  },
  {
   "cell_type": "markdown",
   "id": "7e7c5d2e-712d-4836-b1a5-29145e81b742",
   "metadata": {
    "extensions": {
     "jupyter_dashboards": {
      "activeView": "grid_default",
      "views": {
       "grid_default": {
        "col": null,
        "height": 2,
        "hidden": true,
        "locked": true,
        "row": null,
        "width": 2
       }
      }
     }
    }
   },
   "source": [
    "<b>Tendances centrales</b><br>\n",
    "Le mode est de 0. Ce qui signifie que c'est la valeur la plus fréquente qui apparait dans le jeu de données (d’où le spike sur 0). Cela étant dit la moyenne globale est de 9,16 avec une médiane à 10. Cette dernière valeur signifie que j’ai autant de valeurs supérieures ou inférieures à 10cm.<br>\n",
    "<b>Dispersions</b> <br>\n",
    "Concernant les mesures de dispersions, la variance empirique est de 82. Cette valeur nous montre que les mesures ne sont pas trop dispersées autour de la valeur moyenne. Cette dispersion est aussi illustrée par l'écart-type 9,05 (qui est tout simplement la racine carrée de la variance empirique). Le coefficient de variation = 1 (écart-type empirique/moyenne).\n",
    "Le 1er Quartile = 1 : 25% des aliments ont une note au-dessous de 1 et 75% au-dessus<br>\n",
    "Le 2eme Quartile = 10 = valeur médiane vu au-dessus : 50% des aliments ont une note en dessous de10 et 50% au-dessus de 10<br>\n",
    "Le 3eme Quartile = 16 = 75% des produits ont une notre en dessous 16 et 25% au-dessus<br>\n",
    "L'écart interquartile = 16-1 = 15\n",
    "\n"
   ]
  },
  {
   "cell_type": "markdown",
   "id": "4e555287-b10e-4070-91d5-ec250fb55f72",
   "metadata": {
    "extensions": {
     "jupyter_dashboards": {
      "activeView": "grid_default",
      "views": {
       "grid_default": {
        "col": null,
        "height": 2,
        "hidden": true,
        "locked": true,
        "row": null,
        "width": 2
       }
      }
     }
    },
    "jp-MarkdownHeadingCollapsed": true,
    "tags": []
   },
   "source": [
    "#### <a href=\"projet3.ipynb#C4212\">4.2.1.2 sugars_100g<a>  "
   ]
  },
  {
   "cell_type": "markdown",
   "id": "b58c0591-e42a-461f-b80d-55707e240efa",
   "metadata": {
    "extensions": {
     "jupyter_dashboards": {
      "activeView": "grid_default",
      "views": {
       "grid_default": {
        "col": null,
        "height": 2,
        "hidden": true,
        "locked": true,
        "row": null,
        "width": 2
       }
      }
     }
    }
   },
   "source": [
    "<center><a href=\"https://ibb.co/w6g8j4s\"><img src=\"https://i.ibb.co/3hdVQcz/dispersion-sugars.png\" alt=\"dispersion-sugars\" border=\"0\"></a></center>"
   ]
  },
  {
   "cell_type": "markdown",
   "id": "d970197d-1559-4ffd-9181-9c20b7220cc9",
   "metadata": {
    "extensions": {
     "jupyter_dashboards": {
      "activeView": "grid_default",
      "views": {
       "grid_default": {
        "col": null,
        "height": 2,
        "hidden": true,
        "locked": true,
        "row": null,
        "width": 2
       }
      }
     }
    }
   },
   "source": [
    "<table>\n",
    "      <tr>\n",
    "        <th><center>Nom</center></th>\n",
    "        <th><center>Valeur</center></th>\n",
    "      </tr>\n",
    "      <tr>\n",
    "        <td><center>Moyenne</center></td>\n",
    "        <td><center>16</center></td>\n",
    "      </tr>\n",
    "        <tr>\n",
    "        <td><center>Mediane</center></td>\n",
    "        <td><center>5.71</center></td>\n",
    "        </tr>\n",
    "        </tr>\n",
    "       <tr>\n",
    "        <td><center>Mode</center></td>\n",
    "        <td><center>0</center></td>\n",
    "       </tr>\n",
    "          <tr>\n",
    "        <td><center>Ecart-type</center></td>\n",
    "        <td><center>21.16</center></td>\n",
    "      </tr>\n",
    "        <tr>\n",
    "        <td><center>Var</center></td>\n",
    "        <td><center>447.93</center></td>\n",
    "        </tr>\n",
    "        </tr>\n",
    "       <tr>\n",
    "        <td><center>CV</center></td>\n",
    "        <td><center>1.32</center></td>\n",
    "       </tr>\n",
    "       <tr>\n",
    "        <td><center>Q1</center></td>\n",
    "        <td><center>1.3</center></td>\n",
    "       </tr>\n",
    "        <tr>\n",
    "        <td><center>Q2</center></td>\n",
    "        <td><center>5.71</center></td>\n",
    "       </tr>\n",
    "        <tr>\n",
    "        <td><center>Q3</center></td>\n",
    "        <td><center>24</center></td>\n",
    "       </tr>\n",
    "</table>"
   ]
  },
  {
   "cell_type": "markdown",
   "id": "df5d89e6-5b55-4184-a027-404d82d59b99",
   "metadata": {},
   "source": [
    "<b>Tendances centrales</b><br>\n",
    "Le mode est de 0. Ce qui signifie que c'est la valeur la plus fréquente qui apparait dans le jeu de données (d’où le spike sur 0). Cela étant dit la moyenne globale est de 16 avec une médiane à 5,71. Cette dernière valeur signifie que j’ai autant de valeurs supérieures ou inférieures à 5,71.<br>\n",
    "<b>Dispersions</b> <br>\n",
    "Concernant les mesures de dispersions, la variance empirique est de 447,9. Cette valeur nous montre que les mesures sont assez dispersées autour de la valeur moyenne. Cette dispersion est aussi illustrée par l'écart-type 21,16 (qui est tout simplement la racine carrée de la variance empirique). Le coefficient de variation = 1,32 (écart-type empirique/moyenne).<br>\n",
    "Le 1er Quartile = 1,3 : 25% des valeurs sont en dessous de 1,3 et 75% sont au-dessus de 1,3<br>\n",
    "Le 2eme Quartile = 5,71 = valeur médiane vu au-dessus : 50% des valeurs sont en dessous de 5,71 et 50% au-dessus de 5,71<br>\n",
    "Le 3eme Quartile = 24 = 75% des valeurs sont en dessous de 24 et 25% au-dessus<br>\n",
    "L'écart interquartile = 24-1,3 = 22,7<br>\n",
    "50% des valeurs de circonférence se situent entre 1,3 et 24 : écart-interquartile = 22,7"
   ]
  },
  {
   "cell_type": "markdown",
   "id": "092b76e9-6d2f-4e19-b27d-166563deb24f",
   "metadata": {
    "extensions": {
     "jupyter_dashboards": {
      "activeView": "grid_default",
      "views": {
       "grid_default": {
        "col": null,
        "height": 2,
        "hidden": true,
        "locked": true,
        "row": null,
        "width": 2
       }
      }
     }
    },
    "jp-MarkdownHeadingCollapsed": true,
    "tags": []
   },
   "source": [
    "#### <a href=\"projet3.ipynb#C4213\">4.2.1.3 fat_100g<a>  "
   ]
  },
  {
   "cell_type": "markdown",
   "id": "df87bf5c-0fe5-4c04-b609-6f9edf09b2a0",
   "metadata": {
    "extensions": {
     "jupyter_dashboards": {
      "activeView": "grid_default",
      "views": {
       "grid_default": {
        "col": null,
        "height": 2,
        "hidden": true,
        "locked": true,
        "row": null,
        "width": 2
       }
      }
     }
    }
   },
   "source": [
    "<center><a href=\"https://ibb.co/gRDHXH7\"><img src=\"https://i.ibb.co/kShkrky/dispersion-fat.png\" alt=\"dispersion-fat\" border=\"0\"></a></center>"
   ]
  },
  {
   "cell_type": "markdown",
   "id": "b1f8d3a8-0255-42a2-8e82-de5b8991a2a1",
   "metadata": {
    "extensions": {
     "jupyter_dashboards": {
      "activeView": "grid_default",
      "views": {
       "grid_default": {
        "col": null,
        "height": 2,
        "hidden": true,
        "locked": true,
        "row": null,
        "width": 2
       }
      }
     }
    }
   },
   "source": [
    "<table>\n",
    "      <tr>\n",
    "        <th><center>Nom</center></th>\n",
    "        <th><center>Valeur</center></th>\n",
    "      </tr>\n",
    "      <tr>\n",
    "        <td><center>Moyenne</center></td>\n",
    "        <td><center>12.72</center></td>\n",
    "      </tr>\n",
    "        <tr>\n",
    "        <td><center>Mediane</center></td>\n",
    "        <td><center>5</center></td>\n",
    "        </tr>\n",
    "        </tr>\n",
    "       <tr>\n",
    "        <td><center>Mode</center></td>\n",
    "        <td><center>0</center></td>\n",
    "       </tr>\n",
    "          <tr>\n",
    "        <td><center>Ecart-type</center></td>\n",
    "        <td><center>17.5</center></td>\n",
    "      </tr>\n",
    "        <tr>\n",
    "        <td><center>Var</center></td>\n",
    "        <td><center>306.36</center></td>\n",
    "        </tr>\n",
    "        </tr>\n",
    "       <tr>\n",
    "        <td><center>CV</center></td>\n",
    "        <td><center>1.38</center></td>\n",
    "       </tr>\n",
    "       <tr>\n",
    "        <td><center>Q1</center></td>\n",
    "        <td><center>0</center></td>\n",
    "       </tr>\n",
    "        <tr>\n",
    "        <td><center>Q2</center></td>\n",
    "        <td><center>5</center></td>\n",
    "       </tr>\n",
    "        <tr>\n",
    "        <td><center>Q3</center></td>\n",
    "        <td><center>20</center></td>\n",
    "       </tr>\n",
    "</table>"
   ]
  },
  {
   "cell_type": "markdown",
   "id": "98200441-6792-4f09-b776-b7357dc9c18d",
   "metadata": {
    "extensions": {
     "jupyter_dashboards": {
      "activeView": "grid_default",
      "views": {
       "grid_default": {
        "col": null,
        "height": 2,
        "hidden": true,
        "locked": true,
        "row": null,
        "width": 2
       }
      }
     }
    }
   },
   "source": [
    "**Tendances centrales**<br>\n",
    "Le mode est de 0. Ce qui signifie que c'est la valeur la plus fréquente qui apparait dans le jeu de données (d’où le spike sur 0). Cela étant dit la moyenne globale est de 12,72 avec une médiane à 5. Cette dernière valeur signifie que j’ai autant de valeurs supérieures ou inférieures à 5.<br>\n",
    "**Dispersions**<br>\n",
    "Concernant les mesures de dispersions, la variance empirique est de 306. Cette valeur nous montre que les mesures sont assez dispersées autour de la valeur moyenne. Cette dispersion est aussi illustrée par l'écart-type 17,5 (qui est tout simplement la racine carrée de la variance empirique). Le coefficient de variation = 1,38 (écart-type empirique/moyenne).<br>\n",
    "Le 1er Quartile = 0 : 25% des valeurs sont égales à 0 et 75% sont au-dessus de 0<br>\n",
    "Le 2eme Quartile = 5 = valeur médiane vu au-dessus : 50% des valeurs sont en dessous de 5 et 50% au-dessus de 5<br>\n",
    "Le 3eme Quartile = 20 = 75% des valeurs sont en dessous de 20 et 25% au-dessus<br>\n",
    "L'écart interquartile = 20-0 = 20<br>\n",
    "50% des valeurs de circonférence se situent entre 0 et 20 : écart-interquartile = 20"
   ]
  },
  {
   "cell_type": "markdown",
   "id": "eb39321a-f7b3-4779-8e73-955d7b6b3b9a",
   "metadata": {
    "extensions": {
     "jupyter_dashboards": {
      "activeView": "grid_default",
      "views": {
       "grid_default": {
        "col": null,
        "height": 2,
        "hidden": true,
        "locked": true,
        "row": null,
        "width": 2
       }
      }
     }
    },
    "jp-MarkdownHeadingCollapsed": true,
    "tags": []
   },
   "source": [
    "#### <a href=\"projet3.ipynb#C4214\">4.2.1.4 saturated-fat_100g<a>"
   ]
  },
  {
   "cell_type": "markdown",
   "id": "35ba2bce-402b-4917-a037-bc01f54d1d03",
   "metadata": {
    "extensions": {
     "jupyter_dashboards": {
      "activeView": "grid_default",
      "views": {
       "grid_default": {
        "col": null,
        "height": 2,
        "hidden": true,
        "locked": true,
        "row": null,
        "width": 2
       }
      }
     }
    }
   },
   "source": [
    "<center><a href=\"https://ibb.co/mcnnhr4\"><img src=\"https://i.ibb.co/crWW2KQ/dispersion-saturated-fat.png\" alt=\"dispersion-saturated-fat\" border=\"0\"></a></center>\n"
   ]
  },
  {
   "cell_type": "markdown",
   "id": "18337a9a-7471-43ca-9fda-5e5e5cee8d41",
   "metadata": {
    "extensions": {
     "jupyter_dashboards": {
      "activeView": "grid_default",
      "views": {
       "grid_default": {
        "col": null,
        "height": 2,
        "hidden": true,
        "locked": true,
        "row": null,
        "width": 2
       }
      }
     }
    }
   },
   "source": [
    "<table>\n",
    "      <tr>\n",
    "        <th><center>Nom</center></th>\n",
    "        <th><center>Valeur</center></th>\n",
    "      </tr>\n",
    "      <tr>\n",
    "        <td><center>Moyenne</center></td>\n",
    "        <td><center>5.12</center></td>\n",
    "      </tr>\n",
    "        <tr>\n",
    "        <td><center>Mediane</center></td>\n",
    "        <td><center>1.79</center></td>\n",
    "        </tr>\n",
    "        </tr>\n",
    "       <tr>\n",
    "        <td><center>Mode</center></td>\n",
    "        <td><center>0</center></td>\n",
    "       </tr>\n",
    "          <tr>\n",
    "        <td><center>Ecart-type</center></td>\n",
    "        <td><center>7.9</center></td>\n",
    "      </tr>\n",
    "        <tr>\n",
    "        <td><center>Var</center></td>\n",
    "        <td><center>63</center></td>\n",
    "        </tr>\n",
    "        </tr>\n",
    "       <tr>\n",
    "        <td><center>CV</center></td>\n",
    "        <td><center>1.54</center></td>\n",
    "       </tr>\n",
    "       <tr>\n",
    "        <td><center>Q1</center></td>\n",
    "        <td><center>0</center></td>\n",
    "       </tr>\n",
    "        <tr>\n",
    "        <td><center>Q2</center></td>\n",
    "        <td><center>1.79</center></td>\n",
    "       </tr>\n",
    "        <tr>\n",
    "        <td><center>Q3</center></td>\n",
    "        <td><center>7.14</center></td>\n",
    "       </tr>\n",
    "</table>"
   ]
  },
  {
   "cell_type": "markdown",
   "id": "a8f7c580-5a47-4568-81cd-d4f594096e2f",
   "metadata": {
    "extensions": {
     "jupyter_dashboards": {
      "activeView": "grid_default",
      "views": {
       "grid_default": {
        "col": null,
        "height": 2,
        "hidden": true,
        "locked": true,
        "row": null,
        "width": 2
       }
      }
     }
    }
   },
   "source": [
    "**Tendances centrales**<br>\n",
    "Le mode est de 0. Ce qui signifie que c'est la valeur la plus fréquente qui apparait dans le jeu de données (d’où le spike sur 0). Cela étant dit la moyenne globale est de 5.12 avec une médiane à 1.79. Cette dernière valeur signifie que j’ai autant de valeurs supérieures ou inférieures à 1.79.<br>\n",
    "**Dispersions**<br>\n",
    "Concernant les mesures de dispersions, la variance empirique est de 63. Cette valeur nous montre que les mesures sont faiblement dispersées autour de la valeur moyenne. Cette dispersion est aussi illustrée par l'écart-type 7.9 (qui est tout simplement la racine carrée de la variance empirique). Le coefficient de variation = 1.54 (écart-type empirique/moyenne).<br>\n",
    "Le 1er Quartile = 0 : 25% des valeurs sont égales à 0 et 75% sont au-dessus de 0<br>\n",
    "Le 2eme Quartile = 1.79 = valeur médiane vu au-dessus : 50% des valeurs sont en dessous de 1.79 et 50% au-dessus de 1.79<br>\n",
    "Le 3eme Quartile = 7.14 = 75% des valeurs sont en dessous de 7.14 et 25% au-dessus<br>\n",
    "L'écart interquartile = 7.14-0 = 7.14<br>\n",
    "50% des valeurs de circonférence se situent entre 0 et 7.14 : écart-interquartile = 7.14"
   ]
  },
  {
   "cell_type": "markdown",
   "id": "2b5140a6-97d0-4cc2-8999-b91509172284",
   "metadata": {
    "extensions": {
     "jupyter_dashboards": {
      "activeView": "grid_default",
      "views": {
       "grid_default": {
        "col": null,
        "height": 2,
        "hidden": true,
        "locked": true,
        "row": null,
        "width": 2
       }
      }
     }
    },
    "jp-MarkdownHeadingCollapsed": true,
    "tags": []
   },
   "source": [
    "#### <a href=\"projet3.ipynb#C4215\">4.2.1.5 carbohydrates_100g<a>"
   ]
  },
  {
   "cell_type": "markdown",
   "id": "ae1e0d3e-3775-4583-910d-bf003f5ee103",
   "metadata": {
    "extensions": {
     "jupyter_dashboards": {
      "activeView": "grid_default",
      "views": {
       "grid_default": {
        "col": null,
        "height": 2,
        "hidden": true,
        "locked": true,
        "row": null,
        "width": 2
       }
      }
     }
    }
   },
   "source": [
    "<center><a href=\"https://ibb.co/Smc2WLt\"><img src=\"https://i.ibb.co/FYX9NP5/dispersion-carbohydrates.png\" alt=\"dispersion-carbohydrates\" border=\"0\"></a></center>"
   ]
  },
  {
   "cell_type": "markdown",
   "id": "22b5830f-45a5-4d5e-b589-e02dcd0068bf",
   "metadata": {
    "extensions": {
     "jupyter_dashboards": {
      "activeView": "grid_default",
      "views": {
       "grid_default": {
        "col": null,
        "height": 2,
        "hidden": true,
        "locked": true,
        "row": null,
        "width": 2
       }
      }
     }
    }
   },
   "source": [
    "<table>\n",
    "      <tr>\n",
    "        <th><center>Nom</center></th>\n",
    "        <th><center>Valeur</center></th>\n",
    "      </tr>\n",
    "      <tr>\n",
    "        <td><center>Moyenne</center></td>\n",
    "        <td><center>32</center></td>\n",
    "      </tr>\n",
    "        <tr>\n",
    "        <td><center>Mediane</center></td>\n",
    "        <td><center>20.6</center></td>\n",
    "        </tr>\n",
    "        </tr>\n",
    "       <tr>\n",
    "        <td><center>Mode</center></td>\n",
    "        <td><center>0</center></td>\n",
    "       </tr>\n",
    "          <tr>\n",
    "        <td><center>Ecart-type</center></td>\n",
    "        <td><center>29</center></td>\n",
    "      </tr>\n",
    "        <tr>\n",
    "        <td><center>Var</center></td>\n",
    "        <td><center>849</center></td>\n",
    "        </tr>\n",
    "        </tr>\n",
    "       <tr>\n",
    "        <td><center>CV</center></td>\n",
    "        <td><center>0.9</center></td>\n",
    "       </tr>\n",
    "       <tr>\n",
    "        <td><center>Q1</center></td>\n",
    "        <td><center>6</center></td>\n",
    "       </tr>\n",
    "        <tr>\n",
    "        <td><center>Q2</center></td>\n",
    "        <td><center>20.6</center></td>\n",
    "       </tr>\n",
    "        <tr>\n",
    "        <td><center>Q3</center></td>\n",
    "        <td><center>58</center></td>\n",
    "       </tr>\n",
    "</table>"
   ]
  },
  {
   "cell_type": "markdown",
   "id": "35c64149-efc4-4e19-a118-2efa0b96d0b0",
   "metadata": {
    "extensions": {
     "jupyter_dashboards": {
      "activeView": "grid_default",
      "views": {
       "grid_default": {
        "col": null,
        "height": 2,
        "hidden": true,
        "locked": true,
        "row": null,
        "width": 2
       }
      }
     }
    }
   },
   "source": [
    "**Tendances centrales**<br>\n",
    "Le mode est de 0. Ce qui signifie que c'est la valeur la plus fréquente qui apparait dans le jeu de données (d’où le spike sur 0). Cela étant dit la moyenne globale est de 32 avec une médiane à 20.6. Cette dernière valeur signifie que j’ai autant de valeurs supérieures ou inférieures à 20.6.<br>\n",
    "**Dispersions**<br>\n",
    "Concernant les mesures de dispersions, la variance empirique est de 849. Cette valeur nous montre que les mesures sont assez dispersées autour de la valeur moyenne. Cette dispersion est aussi illustrée par l'écart-type 29 (qui est tout simplement la racine carrée de la variance empirique). Le coefficient de variation = 0.9 (écart-type empirique/moyenne).<br>\n",
    "Le 1er Quartile = 6 : 25% des valeurs sont en dessous de 6 et 75% sont au-dessus de 6<br>\n",
    "Le 2eme Quartile = 20.6 = valeur médiane vu au-dessus : 50% des valeurs sont en dessous de 20.6 et 50% au-dessus de 20.6<br>\n",
    "Le 3eme Quartile = 58 = 75% des valeurs sont en dessous de 58 et 25% au-dessus<br>\n",
    "L'écart interquartile = 58-6 = 52<br>\n",
    "50% des valeurs de circonférence se situent entre 6 et 58 : écart-interquartile = 52"
   ]
  },
  {
   "cell_type": "markdown",
   "id": "a7276a44-6d0d-41fe-9c0b-bde26700b865",
   "metadata": {
    "jp-MarkdownHeadingCollapsed": true,
    "tags": []
   },
   "source": [
    "#### <a href=\"projet3.ipynb#C4216\">4.2.1.6 salt_100g<a>"
   ]
  },
  {
   "cell_type": "markdown",
   "id": "5fae8abb-da71-42a2-b865-0a3c0d397d95",
   "metadata": {},
   "source": [
    "<center><a href=\"https://ibb.co/pjYZHmY\"><img src=\"https://i.ibb.co/60jbKdj/Salt.png\" alt=\"Salt\" border=\"0\"></a></center>"
   ]
  },
  {
   "cell_type": "markdown",
   "id": "e2743aa6-3a18-4a0d-a624-e2985547976f",
   "metadata": {},
   "source": [
    "<table>\n",
    "      <tr>\n",
    "        <th><center>Nom</center></th>\n",
    "        <th><center>Valeur</center></th>\n",
    "      </tr>\n",
    "      <tr>\n",
    "        <td><center>Moyenne</center></td>\n",
    "        <td><center>1.6</center></td>\n",
    "      </tr>\n",
    "        <tr>\n",
    "        <td><center>Mediane</center></td>\n",
    "        <td><center>0.58</center></td>\n",
    "        </tr>\n",
    "        </tr>\n",
    "       <tr>\n",
    "        <td><center>Mode</center></td>\n",
    "        <td><center>0</center></td>\n",
    "       </tr>\n",
    "          <tr>\n",
    "        <td><center>Ecart-type</center></td>\n",
    "        <td><center>6.24</center></td>\n",
    "      </tr>\n",
    "        <tr>\n",
    "        <td><center>Var</center></td>\n",
    "        <td><center>38.97</center></td>\n",
    "        </tr>\n",
    "        </tr>\n",
    "       <tr>\n",
    "        <td><center>CV</center></td>\n",
    "        <td><center>3.93</center></td>\n",
    "       </tr>\n",
    "       <tr>\n",
    "        <td><center>Q1</center></td>\n",
    "        <td><center>0.06</center></td>\n",
    "       </tr>\n",
    "        <tr>\n",
    "        <td><center>Q2</center></td>\n",
    "        <td><center>0.58</center></td>\n",
    "       </tr>\n",
    "        <tr>\n",
    "        <td><center>Q3</center></td>\n",
    "        <td><center>1.37</center></td>\n",
    "       </tr>\n",
    "</table>"
   ]
  },
  {
   "cell_type": "markdown",
   "id": "ed12e980-3671-4422-9b0d-81c6ae45a2b2",
   "metadata": {},
   "source": [
    "**Tendances centrales**<br>\n",
    "Le mode est de 0. Ce qui signifie que c'est la valeur la plus fréquente qui apparait dans le jeu de données (d’où le spike sur 0). Cela étant dit la moyenne globale est de 1.6 avec une médiane à 0.58. Cette dernière valeur signifie que j’ai autant de valeurs supérieures ou inférieures à 0.58.<br>\n",
    "**Dispersions**<br>\n",
    "Concernant les mesures de dispersions, la variance empirique est de 38.97. Cette valeur nous montre que les mesures sont peu dispersées autour de la valeur moyenne. Cette dispersion est aussi illustrée par l'écart-type 6.24 (qui est tout simplement la racine carrée de la variance empirique). Le coefficient de variation = 3.93 (écart-type empirique/moyenne).<br>\n",
    "Le 1er Quartile = 0.06 : 25% des valeurs sont en dessous de 0.06 et 75% sont au-dessus de 0.06<br>\n",
    "Le 2eme Quartile = 0.58 = valeur médiane vu au-dessus : 50% des valeurs sont en dessous de 0.58 et 50% au-dessus<br>\n",
    "Le 3eme Quartile = 1.37 = 75% des valeurs sont en dessous de 1.37 et 25% au-dessus<br>\n",
    "L'écart interquartile = 1.37-0.06 = 1.31<br>\n",
    "50% des valeurs de circonférence se situent entre 0.06 et 1.37 : écart-interquartile = 1.31"
   ]
  },
  {
   "cell_type": "markdown",
   "id": "6d1f0d92-8c45-418c-ad36-77aa33c018ff",
   "metadata": {
    "jp-MarkdownHeadingCollapsed": true,
    "tags": []
   },
   "source": [
    "#### <a href=\"projet3.ipynb#C4217\">4.2.1.7 fiber_100g<a>"
   ]
  },
  {
   "cell_type": "markdown",
   "id": "ae43a6cc-03e0-48a1-a21b-94b835a04d26",
   "metadata": {},
   "source": [
    "<center><a href=\"https://ibb.co/wKtyNRt\"><img src=\"https://i.ibb.co/0f5qjc5/Fiber.png\" alt=\"Fiber\" border=\"0\"></a></center>"
   ]
  },
  {
   "cell_type": "markdown",
   "id": "428a0b72-1d86-41e9-84cf-12594a1a6065",
   "metadata": {},
   "source": [
    "<table>\n",
    "      <tr>\n",
    "        <th><center>Nom</center></th>\n",
    "        <th><center>Valeur</center></th>\n",
    "      </tr>\n",
    "      <tr>\n",
    "        <td><center>Moyenne</center></td>\n",
    "        <td><center>2.83</center></td>\n",
    "      </tr>\n",
    "        <tr>\n",
    "        <td><center>Mediane</center></td>\n",
    "        <td><center>1.5</center></td>\n",
    "        </tr>\n",
    "        </tr>\n",
    "       <tr>\n",
    "        <td><center>Mode</center></td>\n",
    "        <td><center>0</center></td>\n",
    "       </tr>\n",
    "          <tr>\n",
    "        <td><center>Ecart-type</center></td>\n",
    "        <td><center>4.59</center></td>\n",
    "      </tr>\n",
    "        <tr>\n",
    "        <td><center>Var</center></td>\n",
    "        <td><center>21.05</center></td>\n",
    "        </tr>\n",
    "        </tr>\n",
    "       <tr>\n",
    "        <td><center>CV</center></td>\n",
    "        <td><center>1.62</center></td>\n",
    "       </tr>\n",
    "       <tr>\n",
    "        <td><center>Q1</center></td>\n",
    "        <td><center>0</center></td>\n",
    "       </tr>\n",
    "        <tr>\n",
    "        <td><center>Q2</center></td>\n",
    "        <td><center>1.5</center></td>\n",
    "       </tr>\n",
    "        <tr>\n",
    "        <td><center>Q3</center></td>\n",
    "        <td><center>3.6</center></td>\n",
    "       </tr>\n",
    "</table>"
   ]
  },
  {
   "cell_type": "markdown",
   "id": "25bb4043-28fd-4aa5-8956-19ef8139d647",
   "metadata": {},
   "source": [
    "**Tendances centrales**<br>\n",
    "Le mode est de 0. Ce qui signifie que c'est la valeur la plus fréquente qui apparait dans le jeu de données (d’où le spike sur 0). Cela étant dit la moyenne globale est de 2.83 avec une médiane à 1.5. Cette dernière valeur signifie que j’ai autant de valeurs supérieures ou inférieures à 1.5.<br>\n",
    "**Dispersions**<br>\n",
    "Concernant les mesures de dispersions, la variance empirique est de 21.05. Cette valeur nous montre que les mesures sont peu dispersées autour de la valeur moyenne. Cette dispersion est aussi illustrée par l'écart-type 4.59 (qui est tout simplement la racine carrée de la variance empirique). Le coefficient de variation = 1.62 (écart-type empirique/moyenne).<br>\n",
    "Le 1er Quartile = 0 : 25% des valeurs sont égale à 0 et 75% sont au-dessus de 0<br>\n",
    "Le 2eme Quartile = 1.5 = valeur médiane vu au-dessus : 50% des valeurs sont en dessous de 1.5 et 50% au-dessus<br>\n",
    "Le 3eme Quartile = 3.6 = 75% des valeurs sont en dessous de 3.6 et 25% au-dessus<br>\n",
    "L'écart interquartile = 3.6-0 = 3.6<br>\n",
    "50% des valeurs de circonférence se situent entre 0 et 3.6 : écart-interquartile = 3.6"
   ]
  },
  {
   "cell_type": "markdown",
   "id": "6fa1ea5f-495a-429d-9845-886b41a3e048",
   "metadata": {
    "jp-MarkdownHeadingCollapsed": true,
    "tags": []
   },
   "source": [
    "#### <a href=\"projet3.ipynb#C4218\">4.2.1.8 proteins_100g<a>"
   ]
  },
  {
   "cell_type": "markdown",
   "id": "2ba936de-fbe3-4a53-b1ce-5a3252f88db0",
   "metadata": {},
   "source": [
    "<center><a href=\"https://ibb.co/HqyftqC\"><img src=\"https://i.ibb.co/JHTwvHq/proteins.png\" alt=\"proteins\" border=\"0\"></a></center>"
   ]
  },
  {
   "cell_type": "markdown",
   "id": "1eb5adcc-a6e0-43c2-af6d-03b982a818f0",
   "metadata": {},
   "source": [
    "<table>\n",
    "      <tr>\n",
    "        <th><center>Nom</center></th>\n",
    "        <th><center>Valeur</center></th>\n",
    "      </tr>\n",
    "      <tr>\n",
    "        <td><center>Moyenne</center></td>\n",
    "        <td><center>7.08</center></td>\n",
    "      </tr>\n",
    "        <tr>\n",
    "        <td><center>Mediane</center></td>\n",
    "        <td><center>4.76</center></td>\n",
    "        </tr>\n",
    "        </tr>\n",
    "       <tr>\n",
    "        <td><center>Mode</center></td>\n",
    "        <td><center>0</center></td>\n",
    "       </tr>\n",
    "          <tr>\n",
    "        <td><center>Ecart-type</center></td>\n",
    "        <td><center>8.16</center></td>\n",
    "      </tr>\n",
    "        <tr>\n",
    "        <td><center>Var</center></td>\n",
    "        <td><center>66.53</center></td>\n",
    "        </tr>\n",
    "        </tr>\n",
    "       <tr>\n",
    "        <td><center>CV</center></td>\n",
    "        <td><center>1.15</center></td>\n",
    "       </tr>\n",
    "       <tr>\n",
    "        <td><center>Q1</center></td>\n",
    "        <td><center>0.7</center></td>\n",
    "       </tr>\n",
    "        <tr>\n",
    "        <td><center>Q2</center></td>\n",
    "        <td><center>4.76</center></td>\n",
    "       </tr>\n",
    "        <tr>\n",
    "        <td><center>Q3</center></td>\n",
    "        <td><center>10</center></td>\n",
    "       </tr>\n",
    "</table>"
   ]
  },
  {
   "cell_type": "markdown",
   "id": "0e679490-1079-4e1b-82f6-189cbbb6ee6f",
   "metadata": {},
   "source": [
    "**Tendances centrales**<br>\n",
    "Le mode est de 0. Ce qui signifie que c'est la valeur la plus fréquente qui apparait dans le jeu de données (d’où le spike sur 0). Cela étant dit la moyenne globale est de 7.08 avec une médiane à 4.76. Cette dernière valeur signifie que j’ai autant de valeurs supérieures ou inférieures à 4.76.<br>\n",
    "**Dispersions**<br>\n",
    "Concernant les mesures de dispersions, la variance empirique est de 66.53. Cette valeur nous montre que les mesures sont peu dispersées autour de la valeur moyenne. Cette dispersion est aussi illustrée par l'écart-type 8.16 (qui est tout simplement la racine carrée de la variance empirique). Le coefficient de variation = 1.15 (écart-type empirique/moyenne).<br>\n",
    "Le 1er Quartile = 0.7 : 25% des valeurs sont en dessous de 0.7 et 75% sont au-dessus de 0.7<br>\n",
    "Le 2eme Quartile = 4.76 = valeur médiane vu au-dessus : 50% des valeurs sont en dessous de 4.76 et 50% au-dessus<br>\n",
    "Le 3eme Quartile = 10 = 75% des valeurs sont en dessous de 10 et 25% au-dessus<br>\n",
    "L'écart interquartile = 10-0.7 = 9.3<br>\n",
    "50% des valeurs de circonférence se situent entre 0.7 et 10 : écart-interquartile = 9.3"
   ]
  },
  {
   "cell_type": "markdown",
   "id": "6d5dfe6d-6e45-46c8-8257-421a86dda031",
   "metadata": {
    "tags": []
   },
   "source": [
    "#### <a href=\"projet3.ipynb#C4219\">4.2.1.9 energy_100g<a>"
   ]
  },
  {
   "cell_type": "markdown",
   "id": "28d0838d-7275-4a13-aafd-aac99cca3ab8",
   "metadata": {},
   "source": [
    "<center><a href=\"https://ibb.co/pPK7rQv\"><img src=\"https://i.ibb.co/qngSFCM/energy.png\" alt=\"energy\" border=\"0\"></a></center>"
   ]
  },
  {
   "cell_type": "markdown",
   "id": "c0ea429a-1f29-48b5-b46c-5aa5fc5ccedc",
   "metadata": {},
   "source": [
    "<table>\n",
    "      <tr>\n",
    "        <th><center>Nom</center></th>\n",
    "        <th><center>Valeur</center></th>\n",
    "      </tr>\n",
    "      <tr>\n",
    "        <td><center>Moyenne</center></td>\n",
    "        <td><center>1125.32</center></td>\n",
    "      </tr>\n",
    "        <tr>\n",
    "        <td><center>Mediane</center></td>\n",
    "        <td><center>1100</center></td>\n",
    "        </tr>\n",
    "        </tr>\n",
    "       <tr>\n",
    "        <td><center>Mode</center></td>\n",
    "        <td><center>0</center></td>\n",
    "       </tr>\n",
    "          <tr>\n",
    "        <td><center>Ecart-type</center></td>\n",
    "        <td><center>798.76</center></td>\n",
    "      </tr>\n",
    "        <tr>\n",
    "        <td><center>Var</center></td>\n",
    "        <td><center>638019.52</center></td>\n",
    "        </tr>\n",
    "        </tr>\n",
    "       <tr>\n",
    "        <td><center>CV</center></td>\n",
    "        <td><center>0.71</center></td>\n",
    "       </tr>\n",
    "       <tr>\n",
    "        <td><center>Q1</center></td>\n",
    "        <td><center>377</center></td>\n",
    "       </tr>\n",
    "        <tr>\n",
    "        <td><center>Q2</center></td>\n",
    "        <td><center>1100</center></td>\n",
    "       </tr>\n",
    "        <tr>\n",
    "        <td><center>Q3</center></td>\n",
    "        <td><center>1674</center></td>\n",
    "       </tr>\n",
    "</table>"
   ]
  },
  {
   "cell_type": "markdown",
   "id": "8492f883-2982-47bc-89e0-2af2ce2eb1b3",
   "metadata": {},
   "source": [
    "**Tendances centrales**<br>\n",
    "Le mode est de 0. Ce qui signifie que c'est la valeur la plus fréquente qui apparait dans le jeu de données (d’où le spike sur 0). Cela étant dit la moyenne globale est de 1125.32 avec une médiane à 1100. Cette dernière valeur signifie que j’ai autant de valeurs supérieures ou inférieures à 1100.<br>\n",
    "**Dispersions**<br>\n",
    "Concernant les mesures de dispersions, la variance empirique est de 638019.52. Cette valeur nous montre que les mesures sont assez dispersées autour de la valeur moyenne. Cette dispersion est aussi illustrée par l'écart-type 798.76 (qui est tout simplement la racine carrée de la variance empirique). Le coefficient de variation =0.71 (écart-type empirique/moyenne).<br>\n",
    "Le 1er Quartile = 377 : 25% des valeurs sont en dessous de 377 et 75% sont au-dessus de 377<br>\n",
    "Le 2eme Quartile = 1100 = valeur médiane vu au-dessus : 50% des valeurs sont en dessous de 1100 et 50% au-dessus<br>\n",
    "Le 3eme Quartile = 1674 = 75% des valeurs sont en dessous de 1674 et 25% au-dessus<br>\n",
    "L'écart interquartile = 1674-377 = 1297<br>\n",
    "50% des valeurs de circonférence se situent entre 377 et 1674 : écart-interquartile = 1297"
   ]
  },
  {
   "cell_type": "markdown",
   "id": "b969dce0-1c35-4218-ade2-97eedb80a64a",
   "metadata": {},
   "source": [
    "#### <a href=\"projet3.ipynb#C42110\">4.2.1.10 Les vitamines<a>"
   ]
  },
  {
   "cell_type": "markdown",
   "id": "80636843-d11d-4e77-9661-7ecf35288670",
   "metadata": {},
   "source": [
    "Voir les détails dans le code projet3.ipynb"
   ]
  },
  {
   "cell_type": "markdown",
   "id": "6c1ecafe-d5db-4788-b202-96817d86b659",
   "metadata": {},
   "source": [
    "#### <a href=\"projet3.ipynb#C42111\">4.2.1.11 les 14 autres<a>"
   ]
  },
  {
   "cell_type": "markdown",
   "id": "4ae29a82-affb-4e86-87c9-2f01ec35a3de",
   "metadata": {},
   "source": [
    "Voir les détails dans le code projet3.ipynb pour les 14 variables restantes (de la sélection corrélation et ACP)"
   ]
  },
  {
   "cell_type": "markdown",
   "id": "4f46c04f-40eb-4ea5-a7dd-93896cfcadd4",
   "metadata": {
    "extensions": {
     "jupyter_dashboards": {
      "activeView": "grid_default",
      "views": {
       "grid_default": {
        "col": null,
        "height": 2,
        "hidden": true,
        "locked": true,
        "row": null,
        "width": 2
       }
      }
     }
    },
    "tags": []
   },
   "source": [
    "### <a href=\"projet3.ipynb#C422\">4.2.2 Variables catégorielles<a>  "
   ]
  },
  {
   "cell_type": "markdown",
   "id": "38d9f470-3a73-46c3-bd37-59e7706c44d1",
   "metadata": {
    "extensions": {
     "jupyter_dashboards": {
      "activeView": "grid_default",
      "views": {
       "grid_default": {
        "col": null,
        "height": 2,
        "hidden": true,
        "locked": true,
        "row": null,
        "width": 2
       }
      }
     }
    },
    "tags": []
   },
   "source": [
    "#### <a href=\"projet3.ipynb#C3221\">4.2.2.1 nutrition_grade_fr<a>  "
   ]
  },
  {
   "cell_type": "markdown",
   "id": "cf80545f-64de-4bda-a960-970e64e89b42",
   "metadata": {
    "extensions": {
     "jupyter_dashboards": {
      "activeView": "grid_default",
      "views": {
       "grid_default": {
        "col": null,
        "height": 2,
        "hidden": true,
        "locked": true,
        "row": null,
        "width": 2
       }
      }
     }
    },
    "jp-MarkdownHeadingCollapsed": true,
    "tags": []
   },
   "source": [
    "\n",
    "    \n",
    "<CENTER><a href=\"https://imgbb.com/\"><img src=\"https://i.ibb.co/ssrX6m1/repartition-score-grade.png\" alt=\"repartition-score-grade\" border=\"0\"></a></CENTER>\n",
    "\n",
    "On remarque que les nutri-scores \"A\" et \"B\" puis \"C\" et \"E\" ont une proportion équivalente. Le nutri-score D représente la part la plus importante de l'effectif 28.37% (de l’effectif renseigné)\n"
   ]
  },
  {
   "cell_type": "markdown",
   "id": "26e5ce09-cadf-4bec-a6f5-bc514839e9bf",
   "metadata": {},
   "source": [
    "Pour cette l'application, nous retiendrons le modèle de la régression linéaire qui offre le score le plus élevé pour notre cas. "
   ]
  },
  {
   "cell_type": "markdown",
   "id": "b0485d05-b5b2-4c00-b8b3-abad06586250",
   "metadata": {
    "jp-MarkdownHeadingCollapsed": true,
    "tags": []
   },
   "source": [
    "# 5. APPLICATION"
   ]
  },
  {
   "cell_type": "markdown",
   "id": "11175d86-6bba-4837-a0e0-0b15fcd72cd7",
   "metadata": {
    "tags": []
   },
   "source": [
    "## <a href=\"projet3.ipynb#C51\">5.1 Création du modèle</a>"
   ]
  },
  {
   "cell_type": "markdown",
   "id": "4ae9f756-9c17-45ca-9777-09be0372227d",
   "metadata": {},
   "source": [
    "Dans les étapes précédentes on a identifié 15 variables les plus pertinentes. Grace à ces variables, on va maintenant créer un modèle qui va prédire la valeur du nutri-score. Sur quel modèle je vais travailler.\n",
    "\n",
    "Ainsi, lors de l’utilisation de l’application, un utilisateur découvrira la note du produit qu’il souhaite consommer. Je vais donc aborder 3 méthodes pour répondre à cet objectif :<br>\n",
    "-K-means et classification hiérarchique<br>\n",
    "-KNN<br>\n",
    "-La régression linéaire<br>\n"
   ]
  },
  {
   "cell_type": "markdown",
   "id": "acfeaeaf-de1f-4b62-922f-c7ff0f6f3a9f",
   "metadata": {
    "extensions": {
     "jupyter_dashboards": {
      "activeView": "grid_default",
      "views": {
       "grid_default": {
        "col": null,
        "height": 2,
        "hidden": true,
        "locked": true,
        "row": null,
        "width": 2
       }
      }
     }
    },
    "tags": []
   },
   "source": [
    "### <a href=\"projet3.ipynb#C511\">5.1.1 K-means et classification hiérarchique</a>"
   ]
  },
  {
   "cell_type": "markdown",
   "id": "45edb8dc-6236-4609-8a1a-01f49e225565",
   "metadata": {},
   "source": [
    "Idée initiale : on veut un modèle à 5 notes donc 5 clusters : vérification de cette hypothèse avec la méthode du K-means. Voici le résultat : \n"
   ]
  },
  {
   "cell_type": "markdown",
   "id": "c5c5f193-6394-4bbb-8f98-47a47f891a0d",
   "metadata": {
    "extensions": {
     "jupyter_dashboards": {
      "activeView": "grid_default",
      "views": {
       "grid_default": {
        "col": null,
        "height": 2,
        "hidden": true,
        "locked": true,
        "row": null,
        "width": 2
       }
      }
     }
    }
   },
   "source": [
    "L’utilisation de la classification hiérarchique serait l’idéal pour le calcul de nos clusters. Cependant la classification hiérarchique n'est pas idéale pour les gros échantillons comme le nôtre. En passant par le K-means, on pourra avoir un résultat différent en fonction du statut initial sur le choix des centres de gravité. On va donc faire un mixte des 2 méthodes. Je vais donc passer par la démarche suivante :<br>\n",
    "1. Calcul du nombre de cluster X idéal par le K-means <br>\n",
    "2. Calcul des X centroides via le K-means et projection de ces centroides via PCA<br>\n",
    "3. Classification hiérarchique avec en résultat le dendrogramme associé<br>\n"
   ]
  },
  {
   "cell_type": "markdown",
   "id": "3655c935-7589-45f9-843e-7d6b4bcc876c",
   "metadata": {
    "extensions": {
     "jupyter_dashboards": {
      "activeView": "grid_default",
      "views": {
       "grid_default": {
        "col": null,
        "height": 2,
        "hidden": true,
        "locked": true,
        "row": null,
        "width": 2
       }
      }
     }
    }
   },
   "source": [
    "#### <a href=\"projet3.ipynb#C5111\">5.1.1.1 Détection du nombre de clusters idéal </a>"
   ]
  },
  {
   "cell_type": "markdown",
   "id": "5dd07dc1-8b74-4288-8a2e-9bfbd6317459",
   "metadata": {
    "extensions": {
     "jupyter_dashboards": {
      "activeView": "grid_default",
      "views": {
       "grid_default": {
        "col": null,
        "height": 2,
        "hidden": true,
        "locked": true,
        "row": null,
        "width": 2
       }
      }
     }
    }
   },
   "source": [
    "<center><a href=\"https://ibb.co/3fzrzSC\"><img src=\"https://i.ibb.co/yhSfSgQ/n-cluster.png\" alt=\"n-cluster\" border=\"0\"></a><center>"
   ]
  },
  {
   "cell_type": "markdown",
   "id": "ed4c73aa-3be8-4db4-ad7c-73cd9454429e",
   "metadata": {},
   "source": [
    "La méthode du coude nous encouragerait à prendre un nombre de cluster à 2. Cependant pour notre application il serait plutôt intéressant d’en avoir 5. Prenons donc 5 clusters.\n"
   ]
  },
  {
   "cell_type": "markdown",
   "id": "1c0433cf-3547-433d-8ed6-61fd6b0fd5c6",
   "metadata": {
    "extensions": {
     "jupyter_dashboards": {
      "activeView": "grid_default",
      "views": {
       "grid_default": {
        "col": null,
        "height": 2,
        "hidden": true,
        "locked": true,
        "row": null,
        "width": 2
       }
      }
     }
    }
   },
   "source": [
    "Voici les 5  clusterings associés sur les 7 variables principales :"
   ]
  },
  {
   "cell_type": "markdown",
   "id": "374229e5-5225-4e7c-9f0d-ba00c531c781",
   "metadata": {},
   "source": [
    "<center><a href=\"https://ibb.co/ZhMM07w\"><img src=\"https://i.ibb.co/hKmmSwn/7variables.png\" alt=\"7variables\" border=\"0\"></a><center>"
   ]
  },
  {
   "cell_type": "markdown",
   "id": "ffa3e7c8-98a2-4448-9a28-cf0cd5707de9",
   "metadata": {},
   "source": [
    "La corrélation entre les clusters trouvés et le score connu est de 24%."
   ]
  },
  {
   "cell_type": "markdown",
   "id": "e5b5f82e-e274-4740-88c5-3ed2835b7a79",
   "metadata": {},
   "source": [
    "<center><a href=\"https://imgbb.com/\"><img src=\"https://i.ibb.co/qrgj2TW/Corr.png\" alt=\"Corr\" border=\"0\"></a></center>"
   ]
  },
  {
   "cell_type": "markdown",
   "id": "1253096f-cf2f-4392-a238-584a3600e650",
   "metadata": {},
   "source": [
    " Observons cette distribution :"
   ]
  },
  {
   "cell_type": "markdown",
   "id": "b2f5bd18-0999-4074-9e62-014e8080bd7c",
   "metadata": {},
   "source": [
    "\n",
    "<center><a href=\"https://ibb.co/V9j5w09\"><img src=\"https://i.ibb.co/zxnD6Wx/moustache.png\" alt=\"moustache\" border=\"0\"></a></center>"
   ]
  },
  {
   "cell_type": "markdown",
   "id": "b7cafb83-5649-4217-a57e-1bc2b86fdfdc",
   "metadata": {},
   "source": [
    "On prédit que 2 clusters suffiraient. Ce n’est donc pas un modèle idéal pour notre cas. En conséquence la variable « nutrition-score-fr_100g » (valeur numérique entre -15 et 40) sera privilégiées par rapport à la variable « nutrition_grade_fr_2 » (5 lettres).<br>\n",
    "On va malgré tout aller au bout de la démarche (calcul des centroides et classification hiérarchique)"
   ]
  },
  {
   "cell_type": "markdown",
   "id": "2b668874-b500-4468-ad9a-20d5e8990516",
   "metadata": {
    "extensions": {
     "jupyter_dashboards": {
      "activeView": "grid_default",
      "views": {
       "grid_default": {
        "col": null,
        "height": 2,
        "hidden": true,
        "locked": true,
        "row": null,
        "width": 2
       }
      }
     }
    },
    "tags": []
   },
   "source": [
    "#### <a href=\"projet3.ipynb#C5112\">5.1.1.2  Calcul des centroides et projection via PCA sur quelques axes </a>"
   ]
  },
  {
   "cell_type": "markdown",
   "id": "86c80a7a-186b-4e16-9681-0b06c7742260",
   "metadata": {
    "extensions": {
     "jupyter_dashboards": {
      "activeView": "grid_default",
      "views": {
       "grid_default": {
        "col": null,
        "height": 2,
        "hidden": true,
        "locked": true,
        "row": null,
        "width": 2
       }
      }
     }
    }
   },
   "source": [
    "<center><a href=\"https://ibb.co/mbRgDW3\"><img src=\"https://i.ibb.co/JmcgBJ9/centroid-F1-F2.png\" alt=\"centroid-F1-F2\" border=\"0\"></a></center>\n",
    "<center><a href=\"https://ibb.co/0V7X3xq\"><img src=\"https://i.ibb.co/dJTcyRB/centroids-F3-F4.png\" alt=\"centroids-F3-F4\" border=\"0\"></a></center>"
   ]
  },
  {
   "cell_type": "markdown",
   "id": "410a7a2f-30ff-471b-ac20-61cc288f7cd5",
   "metadata": {
    "extensions": {
     "jupyter_dashboards": {
      "activeView": "grid_default",
      "views": {
       "grid_default": {
        "col": null,
        "height": 2,
        "hidden": true,
        "locked": true,
        "row": null,
        "width": 2
       }
      }
     }
    },
    "tags": []
   },
   "source": [
    "#### <a href=\"projet3.ipynb#C5113\">5.1.1.3 Classification hiérarchique à partir des centroides </a>"
   ]
  },
  {
   "cell_type": "markdown",
   "id": "5a621fee-1f1d-4eb4-b452-402e7cd1aec5",
   "metadata": {
    "extensions": {
     "jupyter_dashboards": {
      "activeView": "grid_default",
      "views": {
       "grid_default": {
        "col": null,
        "height": 2,
        "hidden": true,
        "locked": true,
        "row": null,
        "width": 2
       }
      }
     }
    }
   },
   "source": [
    "<center><a href=\"https://ibb.co/166ghpP\"><img src=\"https://i.ibb.co/rssjTLz/Dendo.png\" alt=\"Dendo\" border=\"0\"></a><center>"
   ]
  },
  {
   "cell_type": "markdown",
   "id": "92b628cf-01dc-4f01-8fa1-8570eb1ebe2b",
   "metadata": {
    "jp-MarkdownHeadingCollapsed": true,
    "tags": []
   },
   "source": [
    "### <a href=\"projet3.ipynb#C512\">5.1.2 KNN</a>"
   ]
  },
  {
   "cell_type": "markdown",
   "id": "cd9c1f14-2882-4432-b441-08925934d1f5",
   "metadata": {},
   "source": [
    "Le classifieur le plus performant est 2 :"
   ]
  },
  {
   "cell_type": "markdown",
   "id": "ea3d5d9e-4de5-4ad5-ab14-06440f03bb47",
   "metadata": {},
   "source": [
    "<center><a href=\"https://imgbb.com/\"><img src=\"https://i.ibb.co/zNgy1SW/classifieur.png\" alt=\"classifieur\" border=\"0\"></a><center>"
   ]
  },
  {
   "cell_type": "markdown",
   "id": "1d8c53e4-7eff-4b87-8915-857f16b0bc98",
   "metadata": {},
   "source": [
    "L’erreur du modèle est de 47%, nous ne retiendrons pas cette solution car la performance n’est pas idéale."
   ]
  },
  {
   "cell_type": "markdown",
   "id": "9197cc88-f4b4-41fd-a8ae-16b0be9c332e",
   "metadata": {
    "tags": []
   },
   "source": [
    "### <a href=\"projet3.ipynb#C513\">5.1.3 Régression linéaire </a>"
   ]
  },
  {
   "cell_type": "markdown",
   "id": "d1529795-73cb-4449-b9c1-9eba226f466e",
   "metadata": {},
   "source": [
    "Création d'un modèle en utilisant 80% du dataframe (sur les 15 colonnes sélectionnées + 1 (colonne nutri-score)) pour l'entrainement et 20% restant pour le test. On obtient un modèle ayant un score de 70% que l'on peut implémenter dans l'application.<br>\n",
    "Remarque 1 : Au global, on constate que la performance est quasiment identique sur un modèle avec ou sans vitamines ; cependant d’un point de vu « produit unitaire », l’impact n’est pas négligeable sur le score du produit.<br>\n",
    "<center><a href=\"https://ibb.co/84Lw7xB\"><img src=\"https://i.ibb.co/5xg3Rj9/sans-vitamines.png\" alt=\"sans-vitamines\" border=\"0\"></a>\n",
    "<a href=\"https://ibb.co/XjxXyRJ\"><img src=\"https://i.ibb.co/pbj2WFX/ac-vitc.png\" alt=\"ac-vitc\" border=\"0\"></a>\n",
    "<a href=\"https://ibb.co/sgr8vyS\"><img src=\"https://i.ibb.co/FhtRbgv/autres-vit.png\" alt=\"autres-vit\" border=\"0\"></a></center>\n",
    "Remarque 2 : j'ai testé le modèle en remplaçant \"energy_100g\" par ses 6 variables corrélées et le score est de 41%. On va donc retenir le modèle qui offre un score de 70% c'est à dire le modèle avec les variables corrélées à l'énergie."
   ]
  },
  {
   "cell_type": "markdown",
   "id": "0939d103-6f18-47d7-930e-23ef4bc99b12",
   "metadata": {},
   "source": [
    "<table>\n",
    "    <caption>Teste de l'application</caption>\n",
    "      <tr>\n",
    "        <th><center>ytest</center></th>\n",
    "        <th><center>Prédiction application</center></th>\n",
    "        <th><center>Statut test</center></th>  \n",
    "      </tr>\n",
    "      <tr>\n",
    "        <td><center>-6</center></td>\n",
    "        <td><center>-6</center></td>\n",
    "        <td><center>OK</center></td>\n",
    "      </tr>\n",
    "          <tr>\n",
    "        <td><center>30</center></td>\n",
    "        <td><center>30</center></td>\n",
    "        <td><center>OK</center></td>\n",
    "      </tr\n",
    "      </tr>\n",
    "        <tr>\n",
    "        <td><center>19</center></td>\n",
    "        <td><center>23</center></td>\n",
    "        <td><center>NOK</center></td>\n",
    "        </tr>\n",
    "      <tr>\n",
    "        <td><center>-4</center></td>\n",
    "        <td><center>-1</center></td>\n",
    "        <td><center>NOK</center></td>\n",
    "        </tr>\n",
    "</table><br>\n",
    "\n",
    "Les 2 exemples de \"NOK\" sont dus à l'erreur de 30% du modèle vu précédemment."
   ]
  },
  {
   "cell_type": "markdown",
   "id": "1d79212f-ed4c-49cf-a184-f18541ec5dbc",
   "metadata": {
    "jp-MarkdownHeadingCollapsed": true,
    "tags": []
   },
   "source": [
    "### <a href=\"projet3.ipynb#C512\">5.1.2 Régression linéaire par la méthode des moindres carrés</a>"
   ]
  },
  {
   "cell_type": "markdown",
   "id": "29e29236-6895-46b2-b18f-228e73d0933b",
   "metadata": {},
   "source": [
    "Cette méthode est très proche de celle vu précédemment. Elle apporte un modèle ayant un score identique à la méthode précédente (70%)"
   ]
  },
  {
   "cell_type": "markdown",
   "id": "f106fe4c-1566-40f6-a1a7-8cab8224071d",
   "metadata": {
    "tags": []
   },
   "source": [
    "## <a href=\"projet3.ipynb#C52\">5.2 Fonctionnement et création de l'IHM</a>"
   ]
  },
  {
   "cell_type": "markdown",
   "id": "805e397f-fb3f-470d-96df-c3250e5d9946",
   "metadata": {},
   "source": [
    "L’objectif de l’application est de pouvoir connaitre la valeur nutritive d’un produit que l’on souhaite consommer via un les mots clé : « excellent », « bon », « passable », « médiocre » et « mauvais ».\n"
   ]
  },
  {
   "cell_type": "markdown",
   "id": "146d2d61-66c5-4113-ab0a-a317287e6a83",
   "metadata": {},
   "source": [
    "<center><a href=\"https://imgbb.com/\"><img src=\"https://i.ibb.co/3cqp3JZ/score.png\" alt=\"score\" border=\"0\"></a></center>"
   ]
  },
  {
   "cell_type": "markdown",
   "id": "da654469-47cd-46b2-b085-1793b71320eb",
   "metadata": {},
   "source": [
    "L’application va donc se reposer sur les valeurs déjà entrées dans le dataset et plus précisément sur les 15 variables choisies précédemment. \n"
   ]
  },
  {
   "cell_type": "markdown",
   "id": "f7655174-8917-4991-9724-a700c692b316",
   "metadata": {},
   "source": [
    "**Fonctionnement** <br>\n",
    "Pour cela, un modèle sera créé à partir des 15 variables + les scores associés. On rentrera dans le modèle les valeurs nutritifs d'un nouveau produit ; ainsi le modèle prédira le nutri-score, déduira le nutri-grade (lettre) et le statut du nouveau produit (mots clé précédent). "
   ]
  },
  {
   "cell_type": "markdown",
   "id": "fca16621-bc3e-4c8c-aae4-a86bbe1273f1",
   "metadata": {},
   "source": [
    "<center><a href=\"https://ibb.co/MRvxbBw\"><img src=\"https://i.ibb.co/Jz1wN36/fonctionnement.png\" alt=\"fonctionnement\" border=\"0\"></a><center>\n",
    "    \n",
    "   \n"
   ]
  },
  {
   "cell_type": "markdown",
   "id": "742375f9-9fb6-402b-bd6d-9ebfec62adb0",
   "metadata": {},
   "source": [
    "**IHM**  <br>\n",
    "Utilisation de la librairie \"ipywidgets\" pour les interfaces et l'outils VOILA pour convertir le notebook en page WEB\n",
    "<center><a href=\"https://ibb.co/Xt2MC6Q\"><img src=\"https://i.ibb.co/L1kHZBF/IHM.png\" alt=\"IHM\" border=\"0\"></a><center>"
   ]
  },
  {
   "cell_type": "markdown",
   "id": "96b22b30-be72-488a-98f6-5502efb200d5",
   "metadata": {},
   "source": [
    "**NOTATION**<br>\n",
    "\n",
    "L'application va donc prédire un score grâce au modèle (voir colonnes min et max ci-dessous); cette note sera convertie en lettre : A, B, C, D et E.<br>\n",
    "Les valeurs de nutri-score prédites par le modèle sont catégorisées par un découpage propre à l'application (valeurs min et max).\n",
    "\n",
    "\n",
    "<center><a href=\"https://ibb.co/RHHmZWf\"><img src=\"https://i.ibb.co/x550PQW/note.png\" alt=\"note\" border=\"0\"></a><center>"
   ]
  },
  {
   "cell_type": "markdown",
   "id": "1f3739b0-eba4-441c-a2fd-54346e35cff1",
   "metadata": {},
   "source": [
    "*les valeurs min de \"Excellent\" peuvent être inférieures à -15 selon le modèle créé<br>\n",
    "*les valeurs max de \"Mauvais\" peuvent être supérieures à 40 selon le modèle créé\n"
   ]
  },
  {
   "cell_type": "markdown",
   "id": "38e962dc-9831-4021-87d6-aa08ac7f4c69",
   "metadata": {
    "tags": []
   },
   "source": [
    "# 6. CONLUSION"
   ]
  },
  {
   "cell_type": "markdown",
   "id": "3b9ea6e2-180b-4ab0-bde4-329dd44f2938",
   "metadata": {},
   "source": [
    "L'agence Santé publique France souhaite rendre les données de santé publique plus accessibles, pour qu’elles soient utilisables par ses agents.\n",
    "J'ai donc proposé une idée d'application à l'Agence Santé Publique France, en lien avec la nutrition en utilisant les données de Open Food Fact.\n",
    "\n",
    "Ce projet lié au domaine de la santé et plus précisément à l’alimentation, m’a permis d’être confronté à un dataset d’une grande dimension. Il a fallu donc sélectionner les variables pertinentes, utiles à mon objectif : celui de construire une application. On a donc déterminé 15 variables + 2 targets (variables représentant la qualité nutritive).\n",
    "\n",
    "Pour déterminer les variables pertinentes, je suis passé par une analyse de corrélation puis une ACP pour les variables numériques. Une seule variable catégorielle a été retenue par sa pertinence.\n",
    "\n",
    "J'ai ensuite créé un modèle de Machine Learning prédictif pour la détermination de la qualité nutritive via 3 méthodes (la régression linéaire a été retenue de par sa performance plus élevée). Ainsi, lors de l’enregistrement des valeurs nutritives d’un nouveau produit, l’application va se baser sur le modèle et ainsi déterminer une valeur de qualité à ce nouveau produit. \n",
    "\n",
    "Pour tester la variation de la performance du modèle, j'ai remplacé les constituants de l’énergie par l'énergie. J’ai aussi retiré les vitamines pour constater l'influence sur la performance du modèle mais aussi l'influence sur un produit seul via l'application.  \n",
    " \n",
    "Un ajout complémentaire dans le dataset utile serait de déterminer la catégorie boisson/nourriture afin de ne pas avoir de juxtaposition entre les scores/grades ce qui permettrait d’avoir un modèle plus performant."
   ]
  },
  {
   "cell_type": "code",
   "execution_count": null,
   "id": "8dd6f0c3-ff5f-4852-abe8-d7042e73ae18",
   "metadata": {},
   "outputs": [],
   "source": []
  }
 ],
 "metadata": {
  "extensions": {
   "jupyter_dashboards": {
    "activeView": "grid_default",
    "version": 1,
    "views": {
     "grid_default": {
      "cellMargin": 2,
      "defaultCellHeight": 40,
      "maxColumns": 12,
      "name": "grid",
      "type": "grid"
     }
    }
   }
  },
  "kernelspec": {
   "display_name": "Python 3 (ipykernel)",
   "language": "python",
   "name": "python3"
  },
  "language_info": {
   "codemirror_mode": {
    "name": "ipython",
    "version": 3
   },
   "file_extension": ".py",
   "mimetype": "text/x-python",
   "name": "python",
   "nbconvert_exporter": "python",
   "pygments_lexer": "ipython3",
   "version": "3.9.13"
  }
 },
 "nbformat": 4,
 "nbformat_minor": 5
}
